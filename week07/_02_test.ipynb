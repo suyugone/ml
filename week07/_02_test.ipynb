{
 "cells": [
  {
   "cell_type": "markdown",
   "metadata": {},
   "source": [
    "# Test Set"
   ]
  },
  {
   "cell_type": "code",
   "execution_count": 1,
   "metadata": {},
   "outputs": [],
   "source": [
    "import numpy as np\n",
    "import pandas as pd\n",
    "import matplotlib.pyplot as plt\n",
    "from sklearn.externals import joblib\n",
    "from my_measures import BinaryClassificationPerformance\n",
    "%matplotlib inline"
   ]
  },
  {
   "cell_type": "markdown",
   "metadata": {},
   "source": [
    "### Read raw test data"
   ]
  },
  {
   "cell_type": "code",
   "execution_count": 2,
   "metadata": {},
   "outputs": [
    {
     "name": "stdout",
     "output_type": "stream",
     "text": [
      "(91000, 14)\n"
     ]
    }
   ],
   "source": [
    "amazon = pd.read_csv('/Users/Aaron_hill/Dropbox/data/ml_19/amazon_data/raw_data_test.csv')\n",
    "print(amazon.shape)"
   ]
  },
  {
   "cell_type": "code",
   "execution_count": 3,
   "metadata": {},
   "outputs": [
    {
     "name": "stdout",
     "output_type": "stream",
     "text": [
      "I really hate to give this coffee a bad review, especially after seeing all of the positive reviews, but it was pretty terrible.  I hate that I got three bags of it and will take it into the office where we drink any generic coffee that's on sale.  I make my coffee in a french press to preserve the oils.  There are no oils in this coffee.  It's basically colored water.\n"
     ]
    }
   ],
   "source": [
    "print(amazon.loc[0, \"Text\"])"
   ]
  },
  {
   "cell_type": "code",
   "execution_count": 4,
   "metadata": {},
   "outputs": [
    {
     "name": "stdout",
     "output_type": "stream",
     "text": [
      "   Unnamed: 0  Unnamed: 0.1      Id   ProductId          UserId  \\\n",
      "0      189701        133920  133921  B001E5DZUC  A1XVCNMSV13FJD   \n",
      "1      311476        382519  382520  B003GADBDO  A3T0OTH5072YRE   \n",
      "2      150296        388694  388695  B000Z91RGC  A1GF8FZHHU3Y1Q   \n",
      "3      404130        492372  492373  B0000GHNWM  A1TJT6GXDGNN8Q   \n",
      "4      218471        242244  242245  B004W3CXC4  A1H71B8U4HAJ1Y   \n",
      "\n",
      "                   ProfileName  HelpfulnessNumerator  HelpfulnessDenominator  \\\n",
      "0                        Kyong                     1                       1   \n",
      "1  M. Reynard \"kairosdreaming\"                     0                       0   \n",
      "2                        ocdme                     0                       0   \n",
      "3                   Opinunated                     0                       0   \n",
      "4            Jemi E. Broussard                     1                       2   \n",
      "\n",
      "   Score        Time                                            Summary  \\\n",
      "0      2  1280707200                              Drinkable, but barely   \n",
      "1      4  1329350400                            Honest Ade Orange Mango   \n",
      "2      5  1346976000                                          Great tea   \n",
      "3      4  1326499200  A nice blend. Medium heat - not too much vineg...   \n",
      "4      5  1316476800                               Met all expectations   \n",
      "\n",
      "                                                Text  helpScore  helpful  \n",
      "0  I really hate to give this coffee a bad review...        1.0    False  \n",
      "1  I think this has been my favorite from the Hon...        NaN    False  \n",
      "2  One of the best teas you can purchase. Has fla...        NaN    False  \n",
      "3  I really like this sauce. It is a great blend!...        NaN    False  \n",
      "4  This Beef Jerky was something my daughter reme...        0.5    False  \n",
      "0.07321978021978022\n"
     ]
    }
   ],
   "source": [
    "print(amazon.head())\n",
    "print(amazon['helpful'].mean())"
   ]
  },
  {
   "cell_type": "markdown",
   "metadata": {},
   "source": [
    "### Feature extraction on natural language data"
   ]
  },
  {
   "cell_type": "code",
   "execution_count": 5,
   "metadata": {},
   "outputs": [],
   "source": [
    "# # http://scikit-learn.org/stable/modules/generated/sklearn.feature_extraction.text.CountVectorizer.html\n",
    "# from sklearn.feature_extraction.text import CountVectorizer\n",
    "# vectorizer = CountVectorizer()\n",
    "# corpus = amazon.Text.as_matrix()\n",
    "# X_bag_of_words = vectorizer.fit_transform(corpus)\n",
    "# print(X_bag_of_words.toarray())"
   ]
  },
  {
   "cell_type": "code",
   "execution_count": 6,
   "metadata": {},
   "outputs": [
    {
     "name": "stderr",
     "output_type": "stream",
     "text": [
      "/anaconda3/lib/python3.7/site-packages/sklearn/feature_extraction/hashing.py:102: DeprecationWarning: the option non_negative=True has been deprecated in 0.19 and will be removed in version 0.21.\n",
      "  \" in version 0.21.\", DeprecationWarning)\n"
     ]
    },
    {
     "name": "stdout",
     "output_type": "stream",
     "text": [
      "(91000, 131072)\n"
     ]
    }
   ],
   "source": [
    "# vectorize Bag of Words from review text; as sparse matrix\n",
    "# from sklearn.feature_extraction.text import HashingVectorizer\n",
    "# hv = HashingVectorizer(n_features=2 ** 17, non_negative=True)\n",
    "hv = joblib.load('hv.pkl')\n",
    "X_hv = hv.transform(amazon.Text)\n",
    "print(X_hv.shape)"
   ]
  },
  {
   "cell_type": "code",
   "execution_count": 7,
   "metadata": {},
   "outputs": [],
   "source": [
    "# http://scikit-learn.org/stable/modules/generated/sklearn.feature_extraction.text.TfidfTransformer.html\n",
    "# from sklearn.feature_extraction.text import TfidfTransformer\n",
    "# transformer = TfidfTransformer()\n",
    "transformer = joblib.load('transformer.pkl')\n",
    "X_tfidf = transformer.transform(X_hv)"
   ]
  },
  {
   "cell_type": "code",
   "execution_count": 8,
   "metadata": {},
   "outputs": [
    {
     "name": "stdout",
     "output_type": "stream",
     "text": [
      "<class 'scipy.sparse.csr.csr_matrix'>\n"
     ]
    }
   ],
   "source": [
    "print(type(X_tfidf))"
   ]
  },
  {
   "cell_type": "markdown",
   "metadata": {
    "collapsed": true
   },
   "source": [
    "### Create additional quantitative features"
   ]
  },
  {
   "cell_type": "code",
   "execution_count": 9,
   "metadata": {},
   "outputs": [
    {
     "name": "stdout",
     "output_type": "stream",
     "text": [
      "   Score  reviewLen\n",
      "0      2        371\n",
      "1      4       1270\n",
      "2      5        250\n",
      "3      4       1773\n",
      "4      5        436\n",
      "5      2       1181\n",
      "6      5        309\n",
      "7      5        177\n",
      "8      1        186\n",
      "9      5        123\n",
      "<class 'pandas.core.frame.DataFrame'>\n"
     ]
    }
   ],
   "source": [
    "# features from Amazon.csv to add to feature set\n",
    "amazon['reviewLen'] = amazon['Text'].str.len()\n",
    "\n",
    "X_quant_features = amazon[[\"Score\", \"reviewLen\"]]\n",
    "print(X_quant_features.head(10))\n",
    "print(type(X_quant_features))"
   ]
  },
  {
   "cell_type": "markdown",
   "metadata": {},
   "source": [
    "### Combine all quantitative features into a single sparse matrix"
   ]
  },
  {
   "cell_type": "code",
   "execution_count": 10,
   "metadata": {},
   "outputs": [
    {
     "name": "stdout",
     "output_type": "stream",
     "text": [
      "(91000, 131074)\n"
     ]
    }
   ],
   "source": [
    "from scipy.sparse import csr_matrix, hstack\n",
    "X_quant_features_csr = csr_matrix(X_quant_features)\n",
    "X_combined = hstack([X_tfidf, X_quant_features_csr])\n",
    "X_matrix = csr_matrix(X_combined) # convert to sparse matrix\n",
    "print(X_matrix.shape)"
   ]
  },
  {
   "cell_type": "markdown",
   "metadata": {},
   "source": [
    "### Create `X`, scaled matrix of features"
   ]
  },
  {
   "cell_type": "code",
   "execution_count": 11,
   "metadata": {},
   "outputs": [
    {
     "name": "stdout",
     "output_type": "stream",
     "text": [
      "(91000, 131074)\n"
     ]
    }
   ],
   "source": [
    "# feature scaling\n",
    "# from sklearn.preprocessing import StandardScaler\n",
    "# sc = StandardScaler(with_mean=False)\n",
    "sc = joblib.load('sc.pkl')\n",
    "X = sc.transform(X_matrix)\n",
    "print(X.shape)"
   ]
  },
  {
   "cell_type": "markdown",
   "metadata": {},
   "source": [
    "### create `y`, vector of Labels"
   ]
  },
  {
   "cell_type": "code",
   "execution_count": 12,
   "metadata": {},
   "outputs": [
    {
     "name": "stdout",
     "output_type": "stream",
     "text": [
      "<class 'numpy.ndarray'>\n"
     ]
    }
   ],
   "source": [
    "y = amazon['helpful'].values\n",
    "print(type(y))"
   ]
  },
  {
   "cell_type": "markdown",
   "metadata": {},
   "source": [
    "### predict `y` with the fit on the training set"
   ]
  },
  {
   "cell_type": "code",
   "execution_count": 13,
   "metadata": {},
   "outputs": [
    {
     "name": "stdout",
     "output_type": "stream",
     "text": [
      "{'Pos': 6663, 'Neg': 84337, 'TP': 3506, 'TN': 39766, 'FP': 44571, 'FN': 3157, 'Accuracy': 0.4755164835164835, 'Precision': 0.07292468332050668, 'Recall': 0.5261894041722948, 'desc': 'ols'}\n"
     ]
    }
   ],
   "source": [
    "# MODEL: ordinary least squares\n",
    "# from sklearn import linear_model\n",
    "# ols = linear_model.SGDClassifier(loss=\"squared_loss\")\n",
    "# ols.fit(X, y)\n",
    "# joblib.dump(ols, 'ols.pkl') # pickle\n",
    "ols = joblib.load('ols.pkl') # pickle\n",
    "\n",
    "ols_performance = BinaryClassificationPerformance(ols.predict(X), y, 'ols')\n",
    "ols_performance.compute_measures()\n",
    "print(ols_performance.performance_measures)"
   ]
  },
  {
   "cell_type": "code",
   "execution_count": 14,
   "metadata": {},
   "outputs": [
    {
     "name": "stdout",
     "output_type": "stream",
     "text": [
      "{'Pos': 6663, 'Neg': 84337, 'TP': 1660, 'TN': 78692, 'FP': 5645, 'FN': 5003, 'Accuracy': 0.882989010989011, 'Precision': 0.2272416153319644, 'Recall': 0.24913702536395016, 'desc': 'svm'}\n"
     ]
    }
   ],
   "source": [
    "# MODEL: SVM, linear\n",
    "# from sklearn import linear_model\n",
    "# svm = linear_model.SGDClassifier()\n",
    "# svm.fit(X, y)\n",
    "# joblib.dump(svm, 'svm.pkl') # pickle\n",
    "svm = joblib.load('svm.pkl') # pickle\n",
    "\n",
    "svm_performance = BinaryClassificationPerformance(svm.predict(X), y, 'svm')\n",
    "svm_performance.compute_measures()\n",
    "print(svm_performance.performance_measures)"
   ]
  },
  {
   "cell_type": "code",
   "execution_count": 15,
   "metadata": {},
   "outputs": [
    {
     "name": "stdout",
     "output_type": "stream",
     "text": [
      "{'Pos': 6663, 'Neg': 84337, 'TP': 1689, 'TN': 79210, 'FP': 5127, 'FN': 4974, 'Accuracy': 0.889, 'Precision': 0.24779929577464788, 'Recall': 0.2534894191805493, 'desc': 'lgs'}\n"
     ]
    }
   ],
   "source": [
    "# MODEL: logistic regression\n",
    "# from sklearn import linear_model\n",
    "# lgs = linear_model.SGDClassifier(loss='log', n_iter=50, alpha=0.00001)\n",
    "# lgs.fit(X, y)\n",
    "# joblib.dump(lgs, 'lgs.pkl') # pickle\n",
    "lgs = joblib.load('lgs.pkl')\n",
    "\n",
    "lgs_performance = BinaryClassificationPerformance(lgs.predict(X), y, 'lgs')\n",
    "lgs_performance.compute_measures()\n",
    "print(lgs_performance.performance_measures)"
   ]
  },
  {
   "cell_type": "code",
   "execution_count": 16,
   "metadata": {},
   "outputs": [
    {
     "name": "stdout",
     "output_type": "stream",
     "text": [
      "{'Pos': 6663, 'Neg': 84337, 'TP': 2578, 'TN': 71626, 'FP': 12711, 'FN': 4085, 'Accuracy': 0.8154285714285714, 'Precision': 0.16861796062528614, 'Recall': 0.3869128020411226, 'desc': 'nbs'}\n"
     ]
    }
   ],
   "source": [
    "# MODEL: Naive Bayes\n",
    "# from sklearn.naive_bayes import MultinomialNB\n",
    "# nbs = MultinomialNB()\n",
    "# nbs.fit(X, y)\n",
    "# joblib.dump(nbs, 'nbs.pkl') # pickle\n",
    "nbs = joblib.load('nbs.pkl')\n",
    "\n",
    "nbs_performance = BinaryClassificationPerformance(nbs.predict(X), y, 'nbs')\n",
    "nbs_performance.compute_measures()\n",
    "print(nbs_performance.performance_measures)"
   ]
  },
  {
   "cell_type": "code",
   "execution_count": 17,
   "metadata": {},
   "outputs": [
    {
     "name": "stdout",
     "output_type": "stream",
     "text": [
      "{'Pos': 6663, 'Neg': 84337, 'TP': 1684, 'TN': 78706, 'FP': 5631, 'FN': 4979, 'Accuracy': 0.8834065934065934, 'Precision': 0.23021189336978812, 'Recall': 0.25273900645354946, 'desc': 'prc'}\n"
     ]
    }
   ],
   "source": [
    "# MODEL: Perceptron\n",
    "# from sklearn import linear_model\n",
    "# prc = linear_model.SGDClassifier(loss='perceptron')\n",
    "# prc.fit(X, y)\n",
    "# joblib.dump(prc, 'prc.pkl') # pickle\n",
    "prc = joblib.load('prc.pkl')\n",
    "\n",
    "prc_performance = BinaryClassificationPerformance(prc.predict(X), y, 'prc')\n",
    "prc_performance.compute_measures()\n",
    "print(prc_performance.performance_measures)"
   ]
  },
  {
   "cell_type": "code",
   "execution_count": 18,
   "metadata": {},
   "outputs": [
    {
     "name": "stdout",
     "output_type": "stream",
     "text": [
      "{'Pos': 6663, 'Neg': 84337, 'TP': 968, 'TN': 82901, 'FP': 1436, 'FN': 5695, 'Accuracy': 0.9216373626373626, 'Precision': 0.40266222961730447, 'Recall': 0.14527990394717094, 'desc': 'rdg'}\n"
     ]
    }
   ],
   "source": [
    "# MODEL: Ridge Regression Classifier\n",
    "# from sklearn import linear_model\n",
    "# rdg = linear_model.RidgeClassifier()\n",
    "# rdg.fit(X, y)\n",
    "# joblib.dump(rdg, 'rdg.pkl') # pickle\n",
    "rdg = joblib.load('rdg.pkl')\n",
    "\n",
    "rdg_performance = BinaryClassificationPerformance(rdg.predict(X), y, 'rdg')\n",
    "rdg_performance.compute_measures()\n",
    "print(rdg_performance.performance_measures)"
   ]
  },
  {
   "cell_type": "code",
   "execution_count": 19,
   "metadata": {},
   "outputs": [
    {
     "name": "stdout",
     "output_type": "stream",
     "text": [
      "{'Pos': 6663, 'Neg': 84337, 'TP': 1416, 'TN': 83286, 'FP': 1051, 'FN': 5247, 'Accuracy': 0.9307912087912088, 'Precision': 0.573976489663559, 'Recall': 0.2125168842863575, 'desc': 'dtc'}\n"
     ]
    }
   ],
   "source": [
    "# MODEL: Decision Tree Classifier\n",
    "# from sklearn import tree\n",
    "# dtc = tree.DecisionTreeClassifier(max_depth=100)\n",
    "# dtc.fit(X_matrix, y)\n",
    "# joblib.dump(dtc, 'dtc.pkl') # pickle\n",
    "dtc = joblib.load('dtc.pkl')\n",
    "\n",
    "dtc_performance = BinaryClassificationPerformance(dtc.predict(X_matrix), y, 'dtc')\n",
    "dtc_performance.compute_measures()\n",
    "print(dtc_performance.performance_measures)"
   ]
  },
  {
   "cell_type": "markdown",
   "metadata": {},
   "source": [
    "### ROC plot to compare performance of various models and fits"
   ]
  },
  {
   "cell_type": "code",
   "execution_count": 20,
   "metadata": {},
   "outputs": [
    {
     "data": {
      "image/png": "[encoded data removed]",
      "text/plain": [
       "<Figure size 432x288 with 1 Axes>"
      ]
     },
     "metadata": {
      "needs_background": "light"
     },
     "output_type": "display_data"
    }
   ],
   "source": [
    "fits = [svm_performance, lgs_performance, nbs_performance, rdg_performance, prc_performance, ols_performance, dtc_performance]\n",
    "\n",
    "for fit in fits:\n",
    "    plt.plot(fit.performance_measures['FP'] / fit.performance_measures['Neg'], \n",
    "             fit.performance_measures['TP'] / fit.performance_measures['Pos'], 'bo')\n",
    "    plt.text(fit.performance_measures['FP'] / fit.performance_measures['Neg'], \n",
    "             fit.performance_measures['TP'] / fit.performance_measures['Pos'], fit.desc)\n",
    "plt.axis([0, 1, 0, 1])\n",
    "plt.title('ROC plot: test set')\n",
    "plt.xlabel('False positive rate')\n",
    "plt.ylabel('True positive rate')\n",
    "plt.show()"
   ]
  },
  {
   "cell_type": "markdown",
   "metadata": {
    "collapsed": true
   },
   "source": [
    "### looking at reviews based on their classification\n",
    "\n",
    "Let's say we decide that Ridge Regression is the best model for generalization. Let's take a look at some of the reviews and try to make a (subjective) determination of whether it's generalizing well. "
   ]
  },
  {
   "cell_type": "code",
   "execution_count": 21,
   "metadata": {},
   "outputs": [
    {
     "data": {
      "text/plain": [
       "\"I really hate to give this coffee a bad review, especially after seeing all of the positive reviews, but it was pretty terrible.  I hate that I got three bags of it and will take it into the office where we drink any generic coffee that's on sale.  I make my coffee in a french press to preserve the oils.  There are no oils in this coffee.  It's basically colored water.\""
      ]
     },
     "execution_count": 21,
     "metadata": {},
     "output_type": "execute_result"
    }
   ],
   "source": [
    "amazon.loc[0, \"Text\"]"
   ]
  },
  {
   "cell_type": "code",
   "execution_count": 22,
   "metadata": {},
   "outputs": [
    {
     "data": {
      "text/plain": [
       "False"
      ]
     },
     "execution_count": 22,
     "metadata": {},
     "output_type": "execute_result"
    }
   ],
   "source": [
    "amazon.loc[0, \"helpful\"]"
   ]
  },
  {
   "cell_type": "code",
   "execution_count": 23,
   "metadata": {},
   "outputs": [],
   "source": [
    "ridge_predictions = rdg.predict(X)"
   ]
  },
  {
   "cell_type": "code",
   "execution_count": 24,
   "metadata": {},
   "outputs": [
    {
     "data": {
      "text/plain": [
       "(91000,)"
      ]
     },
     "execution_count": 24,
     "metadata": {},
     "output_type": "execute_result"
    }
   ],
   "source": [
    "ridge_predictions.shape"
   ]
  },
  {
   "cell_type": "code",
   "execution_count": 25,
   "metadata": {},
   "outputs": [
    {
     "name": "stdout",
     "output_type": "stream",
     "text": [
      "[False False False ... False False False]\n"
     ]
    }
   ],
   "source": [
    "print(ridge_predictions)"
   ]
  },
  {
   "cell_type": "code",
   "execution_count": 26,
   "metadata": {},
   "outputs": [
    {
     "name": "stdout",
     "output_type": "stream",
     "text": [
      "2603\n",
      "2012-05-14 00:00:00\n",
      "5\n",
      "0\n",
      "B004QJEJ1M\n",
      "My only complaint is how long it took to ship from the UK to the United States. But, that's not Marmite's fault. I am a recent devotee of Marmite, having only found out about it, and that I could get it here a couple months ago. After devouring 2 bottles of the regular, I had to order this. Man, am I glad I did. I mean Marmite is good, but if I am going to pay a premium for it anyway (125g jar here for $6), then $15 for a jar twice the size, with twice the taste is worth it to me. Thanks for making this available to me.\n",
      "* * * * * * * * * \n",
      "3011\n",
      "2011-11-27 00:00:00\n",
      "5\n",
      "2\n",
      "B000EDK6FM\n",
      "Bob's Red Mill four pack of gluten free organic quinoa flour is very good tasting and high quality. I've used it in pancakes, muffins, and making cereals. It blends well with oat, teff, brown rice, and sorghum flours. I also appreciate that this flour has 4 grams of protein per 1/4 cup.\n",
      "* * * * * * * * * \n",
      "3501\n",
      "2011-01-21 00:00:00\n",
      "5\n",
      "0\n",
      "B001E5DY4O\n",
      "I love this blend of Caffe Appassionato coffee, because of its low acid content and great flavor.  When will Amazon add the \"Appassionato Blend\" to the coffee subscription choices?\n",
      "* * * * * * * * * \n",
      "3633\n",
      "2012-04-15 00:00:00\n",
      "5\n",
      "0\n",
      "B00506V576\n",
      "I was lucky enough to discover Biscoff Spread  (with smudged labels) at the 99 cents store and decided to give it a try since I am such a fan of the <a href=\"http://www.amazon.com/gp/product/B0001FFK40\">Biscoff brand of Belgian speculoos cookies</a> that they have served for many years on Delta Air Lines.  It's an odd concept, a spread made of cookies, but I'm glad that I didn't let that stop me from trying it.<br /><br />The label says that this is a \"European alternative to peanut butter.\"  I completely disagree as it it only has the look and texture of peanut butter.  It smells and tastes just like the Biscoff cookies, but sweeter, with a hint of caramelized sugar and cinnamon.  It is much more like dulce de leche than peanut butter.<br /><br />This spread is good with ice cream; on pancakes, scones, and apples; or just eaten from a spoon as a nice treat after a meal.  A thin layer even salvaged the plain graham crackers I bought by mistake instead of the cinnamon honey variety.  It would also be good on cupcakes, waffles, or popovers.  Eating it on toast doesn't appeal to me but maybe with raisin bread it would be good.  It really is tasty and hard to resist, especially with milk or coffee.<br /><br />The basic recipe for Biscoff spread is speculoos cookies, canola oil, and sugar so it's not particularly healthy.  Each tablespoon has 88 calories with 52 of them from fat.  On the bright side, a tablespoon only has 33 mg of sodium.<br /><br />Ingredients:  Biscoff 57% (wheat flour, sugar, vegetable oils [one or more of soy bean oil, sunflower oil, canola oil, palm oil], soy flour, brown sugar, sodium bicarbonate, salt, cinnamon), canola oil, sugar, soy lecithin, citric acid.\n",
      "* * * * * * * * * \n",
      "4836\n",
      "2011-12-27 00:00:00\n",
      "5\n",
      "0\n",
      "B000V17MLS\n",
      "I have tried many different brands of Butter chicken masalas from Indian stores. This is the Best Tasting Butter chicken I have ever tried. And the best part is, my 9 yr old son loves it. I highly recommend this to anyone who wants to try ready to eat masala. While using this brand, I reduce the recommended Butter quantity to half. You may need to adjust to your taste.\n",
      "* * * * * * * * * \n",
      "5333\n",
      "2011-06-20 00:00:00\n",
      "5\n",
      "1\n",
      "B001B1KH1Y\n",
      "-Absolutely wipes out entire colonies of ants.  Dust around the base of infested trees and 2 days later, all ants had been exterminated.  -Works FAR better than any other product we tried.  It is a carpenter ants worst NIGHTMARE.<br /> -Adolf Hitler would be extremely impressed in the insect GENOCIDE this product wields.  :-)\n",
      "* * * * * * * * * \n",
      "6443\n",
      "2012-02-22 00:00:00\n",
      "3\n",
      "1\n",
      "B004DF0TDQ\n",
      "I disappointed after trying..was expecting this to be as good or better than Maine Roots, Cock & Bulls, or Big Bens ginger brand drinks..not even close on spice. This was a letdown\n",
      "* * * * * * * * * \n",
      "6874\n",
      "2011-03-21 00:00:00\n",
      "5\n",
      "0\n",
      "B00472PM8M\n",
      "Sounds strange? Don't  you believe it! These little dandies are totally awesome. They arrived at my door on Purim...and what a treat! I am so glad to learn they will soon be available from Amazon. I expected a soggy rice cake with fake chocolate...WRONG. They are crunchy with a light coating (on one side) of the real thing. I am a Type 2 diabetic so they are a great find for me. Thank you, Shibolim.\n",
      "* * * * * * * * * \n",
      "7590\n",
      "2009-02-12 00:00:00\n",
      "5\n",
      "3\n",
      "B001E53020\n",
      "I KAYAK AND CYCLE AND THESE ARE GREAT FOR LONGER TREKS.MUCH TANGIER THAN DARK RAISINS.I CURRENTLY DO NOT BUY THEM FROM AMAZON BECAUSE THE ONLINE QUANTITY PRICE NOW EXCEEDS WHAT I CAN PURCHASE THEM FOR LOCALLY AS SINGLES.\n",
      "* * * * * * * * * \n",
      "9433\n",
      "2012-09-22 00:00:00\n",
      "5\n",
      "0\n",
      "B0012A8H66\n",
      "Very high marks for this tomato jam. It is hard to find good tomato jam. I was getting it from Portugal at igourmet for about $12  for a little jar and it was mostly sweet with a subtle tomato flavor. I really wanted something more tomato-centric and this does this trick. it is pure and delicious and I highly recommend using it on a modified BLT in place of fresh tomatoes - you will LOVE it! It's also incredible with cheese (manchego).\n",
      "* * * * * * * * * \n",
      "13099\n",
      "2011-05-08 00:00:00\n",
      "5\n",
      "0\n",
      "B0015SXIYG\n",
      "My toddler loves it, it is the right size, chocolate mix makes it that it does not melt too quickly in the hand... Great cocolate snack for the little ones or anybody.\n",
      "* * * * * * * * * \n",
      "13179\n",
      "2010-12-14 00:00:00\n",
      "4\n",
      "2\n",
      "B000DZFMEQ\n",
      "Made bread in both oven and bread machine.  The oven method seems to produce an 'exploded' top, which I assume is from the yeast rising too quickly?  Either way the bread turns out moist and stays fairly well in the fridge.  I always toast the bread on a dark setting which produces a light tan, probably due to the moisture in the loaf.  Every GF bread I have tried has always seem to be much better tasting toasted and I think that is the rule if the GF world?<br /><br />I also use this for pie crust (you do not use the yeast).  The pie crust has 3 variants:<br /><br />1) Standard - 2 sticks of butter<br />2) Flakier - 1 stick of butter and 8 OZ of shortening<br />3) Non Dairy - 1 stick of margarine and 8 OZ of shortening<br /><br />I've tried both the standard and flakier versions and both turned out well.  Never had a complaint about my pies (yet!).  You may want to warm up the bottom crust first or it may be a little raw, but I have also had that happen on regular pie crusts.<br /><br />If you do try the pie crust - make sure you put the mixture in the fridge for a bit to ensure it is cold, otherwise it may be too sticky.  I roll it between 2 sheets of wax paper that has a quick spray of PAM applied.  Makes the transfer to the pie plate a snap!\n",
      "* * * * * * * * * \n",
      "16473\n",
      "2012-09-26 00:00:00\n",
      "5\n",
      "0\n",
      "B005I25FDW\n",
      "This is an amazing finishing salt. Big, bold smoke flavors. I've also used it as a brining salt with some liquid smoke, seasonings, and the usual brining liquids. Tastes like it was cooked in a smoker and, since I live in a highrise, that's a nice alternative.\n",
      "* * * * * * * * * \n",
      "17644\n",
      "2012-09-14 00:00:00\n",
      "3\n",
      "1\n",
      "B001E5DZTS\n",
      "It's OK,but it is not as good as Meyenberg's fresh goatmilk in the carton.It sort of has a waters down taste.!\n",
      "* * * * * * * * * \n",
      "18398\n",
      "2009-06-22 00:00:00\n",
      "1\n",
      "26\n",
      "B001E52VJS\n",
      "I bought a Slurpee flavored with this drink mix at 7-11 thinking I was making a healthy choice and it was not aware there was caffeine in this product and ended up sleepless and light headed for the last 24 hours. Caffeine is NOT healthy. I buy Crystal Light all of the time and I am VERY dissapointed that they have added this drug to their product. IT'S BAD FOR YOUR HEART, MIND AND BODY.\n",
      "* * * * * * * * * \n",
      "19725\n",
      "2007-01-08 00:00:00\n",
      "5\n",
      "2\n",
      "B000EM8TYS\n",
      "Lipton Decaffeinated Tea is the perfect thing to drink when you want a soothing hot--or cold--beverage. It works wonders to combat laryngitis as well. This tea contains 100% natural orange pekoe and orange pekoe black teas. Moreover, the tea bags contain decaffeinated tea which means you'll never lose a night's sleep to this tea! SMILE<br /><br />Moreover, there are no additives nor are there preservatives. You can use these tea bags a very long time after you bought them in a store or here at Amazon.com online. Amazon states that this tea has antioxidants and in fact it does--but the antioxidants are in the form of flavonoids which are all natural antioxidants. Scientists still need to conduct more research on this topic; but there is growing evidence at the time of this writing that flavonoids reduce the risk for coronary heart disease as well as the risk of gastric, esophageal and skin cancers. Tea flavonoids can also improve your body's immune system.<br /><br />Yes, you can serve this tea iced with lemon; but I normally find it most useful for those nasty winter months when I inevitably catch a miserable cold. I boil water; I add the tea bag and then I let it steep for a few minutes. I add milk and one packet of \"sweet and low\" and it's absolutely delicious!<br /><br />The price is right, too: the cost per tea bag works out to be about 17 cents per tea bag. You can use a tea bag twice if you wish but after two uses the tea bag has probably served its' \"tour of duty.\"<br /><br />Overall, this is a fine quality tea that will not over stimulate you with caffeine. It is an aromatic hot beverage for when you have a cold and it also makes a delicious iced tea drink on a baking--hot summer's day. Pick some up and try it--you will not be disappointed.<br /><br />SMILE\n",
      "* * * * * * * * * \n",
      "20268\n",
      "2009-04-27 00:00:00\n",
      "5\n",
      "2\n",
      "B0016D1130\n",
      "By accident, I tried this tea at a local restaurant. I was stunned!  The rich nutty green tea flavor of Dragon Well Green came through with no hint of corrupt processing.  Goes well with a slice of lemon (optional).<br /><br />The box says to use boiling water, but I achieve better results with water that's a bit cooler with shorter steeping times:  Large coffee cup with fresh water 1.5 min in new microwave on high with steeping 2.5 min (you can also reuse the tea bag for your second cup that way, too)...and considering the expense of this tea, you don't want to waste any.  The large tea package can easily be used to store your tea bag for a second cup.<br /><br />Highly recommended!\n",
      "* * * * * * * * * \n",
      "21449\n",
      "2012-07-19 00:00:00\n",
      "5\n",
      "1\n",
      "B005HEEFN2\n",
      "Using this flour, I made my best pizza crust ever.  Thin, crispy and the flavor was amazing.  Antimo Caputo flour, 80 degree water, pinch of salt and yeast.  Mixed, let it set in covered mixing bowl for four hours.  Put it in the fridge over night.  Next day I pulled it out to set on counter for 2 hours.  Made a nice ball and let it set for another hour and made my crust and cooked it on a 450 degree pizza stone.  Perfection!\n",
      "* * * * * * * * * \n",
      "21766\n",
      "2011-11-01 00:00:00\n",
      "4\n",
      "0\n",
      "B003ZT61E2\n",
      "A real TREAT!!  Peppermint Mocha Latte is so smooth and invigorating with the hint of peppermint flavor and aroma.  A most enjoyable treat any time of day or evening and especially if you want to serve your guest something a bit different from a plain old cup of coffee.  WOW this is good will be heard all around and all you did was add a few teaspoons of powdered mix and add hot water.This came from Amazon on a windy rainy day when I was looking to serve a dear friend something different and it sure hit the spot!!<a href=\"http://www.amazon.com/gp/product/B004DGZ1T2\">Maxwell House International Cafe Cafe-Style Beverage Mix, Peppermint Mocha Latte 7.1 oz (202 g)</a>\n",
      "* * * * * * * * * \n",
      "24924\n",
      "2012-02-28 00:00:00\n",
      "5\n",
      "0\n",
      "B004UIO5YK\n",
      "I converted to this from grocery store Filippo Berio brand about 9 months ago and I will NEVER go back.<br /><br />This stuff can be tough to find in my grocery stores... I feel like I used to see it a lot more a few years ago after Mrs. Ray got her talk show and was a bit more ubiquitous. Along with her Stock in a Box, this stuff is a kitchen essential for me. Whenever I get a coupon from the RR online store for free shipping, I buy literally $80 worth of this stuff and keep it on hand for everything.<br /><br />The flavor of this oil is less intrusive than other grocery store brands I've had... it's much milder and tastier. Wish more stores would offer it or that I could buy it in larger containers with a price break!\n",
      "* * * * * * * * * \n",
      "26304\n",
      "2009-10-04 00:00:00\n",
      "1\n",
      "11\n",
      "B000VTIJ4E\n",
      "My cat went on a hunger strike rather than eat this food.  I think it's the fishy smell, which is very disagreeable.  Save your money!  The ingredients are fine, but what a waste of money!\n",
      "* * * * * * * * * \n",
      "26819\n",
      "2012-07-23 00:00:00\n",
      "5\n",
      "0\n",
      "B0030MX89U\n",
      "Oh my!  This powerful salt gave the best slow cooked pork!  Just 1/2 tsp. and some liquid smoke on a butt roast, let it slow cook on low about 10 hours, shred, add back to liquid in pot and mmmmn.  Perfect!\n",
      "* * * * * * * * * \n",
      "27355\n",
      "2008-10-04 00:00:00\n",
      "5\n",
      "0\n",
      "B000K8ESB4\n",
      "As a diabetic it is constantly difficult to access saccaran products with all the phoney nutrasweet products being shelved instead of saccaran which is the only true safe diabetic sugar substitute which will not accummilate in a person's body.  Nutrasweet takes over 24 hours from the time consumed to leave the body and a person consuming that product elevates their blood sugars without knowlege of what is happening to them.  The federal government's measurements for calories is how much calories is burned in a 60 minute period not until the total is burned off that's how manufacturers are fooling people into believing that most of their products are calorie free when they are loadedwith calories and dangerous to consume if you are suseptable to calories as a diabetic is.<br />I recommend all diabetics also take advantage of purchasing from this company or ones with these saccaran products they will control their condition better.  My knowlege is from being a controlled diabetic for over 35 years. Bill Benson Az\n",
      "* * * * * * * * * \n",
      "29233\n",
      "2012-09-10 00:00:00\n",
      "5\n",
      "0\n",
      "B003GCW1UQ\n",
      "The finest value for quality Paella style rice that I have found.  Many lower tier Calasparra rices carry a hefty tariff with fancy packaging.  Save your money and buy the La Tienda Peregrino.\n",
      "* * * * * * * * * \n",
      "30700\n",
      "2009-01-31 00:00:00\n",
      "5\n",
      "0\n",
      "B000EVOSE4\n",
      "Over the years the best Gummi Bears out there.  Longstanding tradition of finding the Bears for my son in Marietta:  you made it a lot easier and less expensive.  Thanks!\n",
      "* * * * * * * * * \n",
      "31905\n",
      "2011-06-05 00:00:00\n",
      "1\n",
      "2\n",
      "B000KV61FC\n",
      "The package says that this is supposed to be practically break-proof, which I thought was perfect for my year-old Beauceron who is a pretty aggressive chewer.  Finally!  A toy that would make his brain work and keep him occupied.<br /><br />Three uses.  First one he very quickly discovered how to get the treats right out.  Second, he learned how to get the screw-off bottom to come off of the jug.  Third time - he chewed the plastic to bits by the time I got it away from him - and he was in the same room with me!<br /><br />I'm a dog trainer and only recommend high-endurance products for my clients.  This didn't even come *close* to meeting my expectations!  Total disappointment.  Will not buy another 'Premier' Busy Buddy toy for my chewer!<br /><br />At almost 3 years old, we still rely on the blue K9 Kongs, Holey Moley, and Everlast Treat balls to stand up to his strong jaws and chew drive!\n",
      "* * * * * * * * * \n",
      "33397\n",
      "2011-05-04 00:00:00\n",
      "4\n",
      "1\n",
      "B0033D20V8\n",
      "La Manita is an amazing coffee that I have been from time to time rewarding myself with. I originally purchased some in 1987 in \"Barbara's\" at Fair Lakes center in Virginia. I was hooked. Some go to a spa, some to a movie...I relax and enjoy lifes pleasures with a mug of freshly ground La Manita.\n",
      "* * * * * * * * * \n",
      "33411\n",
      "2011-03-07 00:00:00\n",
      "5\n",
      "4\n",
      "B003AO96W6\n",
      "Drinking my Tiger's Blood is like bravely white water rafting through a river of minotaur piss while cherubs massage your shoulders with magic fairy oil. You'll be able to slay a chimera and save goddesses by the dozens. You won't be able to help but to win!\n",
      "* * * * * * * * * \n",
      "33628\n",
      "2009-03-17 00:00:00\n",
      "5\n",
      "1\n",
      "B0008JEZ36\n",
      "25 Years Old Traditional Balsamic Vinegar By Manicardi<br />This is the real balsamic vinegar. It is to be treasured and savored. We love this vinegar served over fresh strawberries. A tablespoon over ice makes a wonderful tonic. The vinegar comes with a small cookbook which contains the recipe for Lucianno Pavarotti's \"Piccatina\", a truly delightful veal dish. This is not salad dressing vinegar. This is a jewel of wonderfully subtle sweet flavors.\n",
      "* * * * * * * * * \n",
      "35420\n",
      "2011-06-29 00:00:00\n",
      "4\n",
      "1\n",
      "B001EPQPKE\n",
      "I got a sample of this stuff at a bbq festival in NYC.<br /><br />It's got an eerie taste to it.  At first I couldn't figure out what the stuff tastes like.<br />It tastes salty and kind of sweet, there is some good almost smoky flavor to it.  Then I figured it out!  It tastes like those bbq potato chips.<br /><br />Let's break down the ingredient list:<br />#1 is salt.  Not a bad thing but don't overdose on it.<br />#2 dehydrated onion - great flavor<br />#3. spices - not sure what this is, but it's probably some proprietary blend with pepper,<br />#4. sugar - this is where the sweetness comes from<br />#5. dehydrated garlic- where more flavor comes from<br />#6. brown sugar - more sweetness, but a different flavor<br />#7. dehydrated tomato - did you know that tomato contains a bunch of natural glutamic acids (like MSG), and you wonder why pizza is so addicting.<br /><br />there's more but more sugar and other stuff in there, but you get the gist of my review.<br /><br />I would be careful about using it.  It can help make formerly nasty tasting cuts of meat and low qualty burger patties really irrestible.<br />It'll make you eat more.<br /><br />Combined with the fat in the patties, it can be an addicting item.  It'll hit all of the taste senses (Unami, salty, sweet, sour, bitter) and make you come back for more.<br /><br />I would rather have a higher quality burger and just season it with salt and pepper, but if you have to get the cheaper quality patties, I think people would like this seasoning.  You can skip the ketchup if you use this seasoning.\n",
      "* * * * * * * * * \n",
      "37244\n",
      "2011-02-17 00:00:00\n",
      "5\n",
      "0\n",
      "B001KUWEL2\n",
      "My uncle Bilbo always woke up to a hearty bowl of porridge in the mornin'. Nothin' goes better with a sunrise in the Shire. If you want your life to be a little simpler, and a lot better, do as Bilbo does, and buy Bob's steel cut oats. There is a goodness inside these little morsels that you don't get with the normal brand, it smells great when you cook it.<br /><br />I take mine with a pat a' butter and a sprinkling of sugar, and as this is the heartiest porridge you can 'ave, some might, as I do, take a wee bit a' milk to thin things out a bit. If you wan't to muck it up with fruit and spices, be my guest, but it's general hobbit practice to keep things as simple as can be.<br /><br />Buy this porridge, and you'll live happily ever after, to the end of your days.\n",
      "* * * * * * * * * \n",
      "37478\n",
      "2012-04-17 00:00:00\n",
      "4\n",
      "1\n",
      "B0041CIP3M\n",
      "This was my first time cooking with a Prima Taste kit and was impressed by the full flavor when making curry.  I opted to use shrimp since I didn't have beef on hand and it still came out very delicious.  The flavors are complex and remind me of Thai and Malay foods I've eaten at restaurants.  For those who don't like spicy foods, this does pack quite a punch but not too over the top.  Only slight negatives - there are a bunch of little leaves (keffir lime leaves, I believe) which need to be picked out before serving or while eating as they are not really chewable.  Also, when mixing in the coconut powder blend which comes in a paper pouch, it can be messy.  It left a bit of powder around the stovetop so take extra care to open slowly and/or over the pot/pan where you are mixing the curry to avoid the extra cleanup.  Bon appetit!\n",
      "* * * * * * * * * \n",
      "38015\n",
      "2011-03-07 00:00:00\n",
      "5\n",
      "4\n",
      "B003Y391DC\n",
      "Great price, great ingredients, and great food. When we stepped up to these stage-3 \"chunky\" foods, our 9-month old LOVED it. She was literally screaming and laughing for the Chicken and Stars. Highly recommend this great organic food.\n",
      "* * * * * * * * * \n",
      "38973\n",
      "2010-05-21 00:00:00\n",
      "4\n",
      "2\n",
      "B000SARJF6\n",
      "I usually buy PG Tips or Typhoon english breakfast tea in bags.  I wanted to try loose-leaf tea for a stronger flavor.  Unfortunately, I fill the tea infuser and it is just not as strong as the previously mentioned brands.  As for the packaging, it arrived just as pictured here but you should know the paper bag is plastic lined and has a ziploc to seal it. It's good packaging.  I hate to give it this review and I've only made 4 pots of tea so if my opinion changes later, I'll surely note it here.<br /><br />UPDATE: I figured out I was making a rookie mistake: in my desire to brew a strong tea, I was overfilling the infuser thereby preventing the flow of water.  This tea is not weak after all.  I upgraded from 3 to 4 stars.  Why not 5? I still think the PG Tips has a better flavor.  I am going to keep my subscription to this tea because it's organic.\n",
      "* * * * * * * * * \n",
      "39488\n",
      "2010-07-24 00:00:00\n",
      "5\n",
      "3\n",
      "B001I43F9A\n",
      "I made Ani's Raw Jap Chae, and it was amazing! You could serve it to absolutely anyone. But, there are much better deals; I used [...] the next time.\n",
      "* * * * * * * * * \n",
      "43441\n",
      "2012-07-19 00:00:00\n",
      "5\n",
      "0\n",
      "B007YVWJVG\n",
      "These candies are hoppy without being bitter.  They satisfy the craving for a sweet, hard candy, but add a wonderful kick of hops, as in a hoppy beer (a la Sierra Nevada Pale Ale) giving them a wonderful semi-tart, slight \"grapefruit\" style flavor.  I have put them out on a candy dish for company, and everyone loves them, gushing \"what are these?\" and \"these are great!\"  Everyone wants to know where to get them, so I direct them to the beercandy.com website, where you can easily order them, along with their other wonderfully beer-flavored (real beer, yet no alcohol) chocolates.  My favorite of these is the Dark Chocolate Lambic...ooooooohhhh lala!  Great for gifts!\n",
      "* * * * * * * * * \n",
      "44016\n",
      "2012-08-08 00:00:00\n",
      "5\n",
      "2\n",
      "B008EXEMOU\n",
      "We adopted our two year old, female german Shepherd, Cheyenne, from a local shelter last year. We knew nothing about her background or what she ate. I started with a dry food which our previous dog did very well on. Immediately, Cheyenne began having soft stools and diarhea. After a few weeks I tried another premium dry food... same results, soft-serve ice cream stools and sometimes watery stools. Months went by and I tried several other dry and wet foods and dietary supplements with little improvement. It drove me crazy! I took her to the vet and they did tests and ruled out worms, etc... and told me that German Shepherds are known to have stomach issues. Finally, I picked up a bag of Blue Buffalo Freedom / Grain Free... and Cheyenne loved it and her stools immediately firmed up! Most of the time her stools are very normal and firm now... sometimes they are a little soft... but nothing compared to before. I am so happy I tried Blue Buffalo Freedom. I hope that it works as well for you!\n",
      "* * * * * * * * * \n",
      "45204\n",
      "2011-08-18 00:00:00\n",
      "4\n",
      "0\n",
      "B004ZIER34\n",
      "My 1st no/low acid coffee. Not bad at all.  The dark roast was not too heavy but provided balance needed. Tasted like a good quality decaf coffee. I would buy it if I was uable to drink regular coffee!\n",
      "* * * * * * * * * \n",
      "47812\n",
      "2010-05-17 00:00:00\n",
      "5\n",
      "0\n",
      "B0013WI64G\n",
      "This tea is delicious. I have been drinking this brand for years and I highly recommend it.  It is not organic, so I'll put some tea in a tea ball and give it a few dunks in a separate glass of hot water to wash it.  Afterward it still makes several cups of good tea.\n",
      "* * * * * * * * * \n",
      "48983\n",
      "2012-02-23 00:00:00\n",
      "3\n",
      "0\n",
      "B00016UX14\n",
      "This is the best fish sauce I tried for fish noodles soup (SE Asian dish with rice noodles, \"Khanom Jin\"  in Thai, \"Mohinga\" in Burmese, \"Nyonya Assam Laksa\" in Malay). I pay a few cents less than four bucks at Latin/Asian/International stores in DC area. If you are in DC, you can find it in some stores including Latin groceries in DC Farmers Market. I am glad to find Amazon carries this brand but wish the same price as local stores.\n",
      "* * * * * * * * * \n",
      "50178\n",
      "2011-04-16 00:00:00\n",
      "5\n",
      "0\n",
      "B004O9VN72\n",
      "Having moved from the East Coast where I could purchase this item in any store I am now in Arkansas and the stores here have never heard of \"hots\" and so do not stock it.  Sandwich stores have no clue about the wonderfulness of this product on their sandwiches.  So I have it delivered via Amazon and we enjoy having hots on all of our sandwiches, hot dogs, and hamburgers.  What a taste treat.\n",
      "* * * * * * * * * \n",
      "51046\n",
      "2012-05-18 00:00:00\n",
      "5\n",
      "0\n",
      "B001G0MG2I\n",
      "These are good but a bit too dark for me.  Also I tend to sneeze when I have this.  Not sure why.\n",
      "* * * * * * * * * \n",
      "56553\n",
      "2012-08-17 00:00:00\n",
      "3\n",
      "0\n",
      "B00361PABO\n",
      "Tasty treat especially here in Afghanistan. They need to be almost over cooked to get the right texture of porkrind. I enjoyed the flavor. I would buy them again.\n",
      "* * * * * * * * * \n",
      "58000\n",
      "2012-08-17 00:00:00\n",
      "2\n",
      "0\n",
      "B003YKAT68\n",
      "I used to love this product. I have purchased at least 10 cases over the last year or two. I am less impressed with the quality now and even a little concerned. Hopefully the manufacturer will read this review and be motivated to fix the problem. If not, I will continue to buy the Farmer's Market pumpkin from Target as it is made the right way and costs less.<br /><br />I manage a holistic rescue and boarding sanctuary. If you've ever been in pet rescue/boarding or taken a dog swimming at the beach, you know it is essential to have something that will stop diarrhea quickly. All canned/powdered pumpkin will stop diarrhea caused by saltwater ingestion or diet changes. This product works as well as any but now that this manufacturer is using pumpkins which aren't ripe, the product is less nutritious and harder to feed. Instead of a creamy consistency that will coat kibble, it is now thick and doesn't mix in well. Sometimes it's harder than others but I am notcing an overall trend of less-desirable product. Maybe Amazon is getting the reject product from the manufacturer and not explaining this to the consumer. The Nummy Tum Tum 100% Organic Pumpkin Puree should not be trusted to provide the vitamins that are in regular canned pumpkin. Only a product that is deep orange and mushy is made from ripe pumpkins and will provide the nutrients which are assumed to be in \"pumpkin\". Don't be fooled by yellow, firm pumpkin, it's not ripe.<br /><br />Lastly I want to add that two of my cases have contained badly dented cans that were dented prior to being packed in the box. That is just plain rude.\n",
      "* * * * * * * * * \n",
      "63980\n",
      "2012-09-20 00:00:00\n",
      "4\n",
      "0\n",
      "B007JFMH96\n",
      "The only reason I'm \"dinging\" these cookies 1 star is because they are a little pricey at $1 a cookie (for a boxed product).<br /><br />Having said that, I (and my kids) thought they were yummy, but be sure to have a glass of milk handy since they are on the drier side.  Nice and moist and not too crumbly.  The packaging kept the product sealed nicely over time and the cookies didn't dry out or get hard.\n",
      "* * * * * * * * * \n",
      "64600\n",
      "2011-04-28 00:00:00\n",
      "5\n",
      "2\n",
      "B004QKPCYE\n",
      "If you like Biscoff cookies, you'll love this stuff. There are no words that can express how wonderfully delicious this stuff truly is. I had my doubts when I ordered it but my love for Biscoff cookies convinced me to at least try it. I am so glad I did.<br /><br />It's smooth like creamy peanut butter and for those that haven't tasted the wonderfulness that is a Biscoff cookie, it's very hard to adequately describe it's flavor. Another reviewer said it was similar to a graham and I think another one thought it was closer to gingersnaps. I guess those the best american cracker/cookie comparisons, so for lack of better descriptions, imagine those two combined. For what it's worth, if you're like me, I don't really like gingersnaps and grahams are just ok but I think Biscoffs are heavenly. Just take the plunge and buy this spread, it's a great treat just out of the jar & an awesome \"mystery flavor\" for baked goods, everyone will ask you what your secret ingredient is!\n",
      "* * * * * * * * * \n",
      "65270\n",
      "2006-10-11 00:00:00\n",
      "5\n",
      "21\n",
      "B001E5E3S0\n",
      "This oatmeal is the only kind that I have found to be gluten-free.  It is tasty and cooks quicker and has better texture than rolled oat varieties of oatmeal.  The New England Journal of Medicine published a letter in 2004 with lab analysis showing that McCann's had significantly less gluten on median than two other brands; unfortunately, the analysis also showed that one of the four samples of McCann's had high gluten, so it's possible that there may occasionally be bad batches, or it's possible that they mixed up their sample of McCann's with the other brands since the other three samples were so different.  The World Health Organization's definition of gluten free is less than 200 parts per million (ppm), and the more conservative definition is less than 20 ppm.  The four samples of McCann's had gluten contents of:  &lt;3 ppm, 12 ppm, 23 ppm, 760 ppm.  The second brand was around 100-200 ppm.  The third brand was around 300-800 ppm.  McCann's is clearly better.  I have personally had no problems with it, but I have had problems with the second and third brands that they tried.\n",
      "* * * * * * * * * \n",
      "65894\n",
      "2005-07-26 00:00:00\n",
      "5\n",
      "0\n",
      "B0001ES9F8\n",
      "This is just as good as coffee can be. The flavoring is barely detectable and, even then, cannot be pinned down as hazelnut. It's a subtle blend, like a fine perfume. Warning: beware of the other brands that claim to be for the Senseo. You'll not get this taste nor will you get the foam layer. This one is definitely my favorite.\n",
      "* * * * * * * * * \n",
      "67709\n",
      "2011-03-24 00:00:00\n",
      "4\n",
      "0\n",
      "B003YBLF2E\n",
      "I like the concept here that GoPicnic has.  The box is convenient although I would imagine that a flatter type of design of sorts would make it more 'carryable' for hiking or even camping.<br /><br />I live in earthquake country and always look for things to have to store or have available for a possible disaster.  If you live in EQ, hurricane or Tornado country, this may be a handy thing to add to your store of goods for such an event.  Although the shelf life is somewhat short, you would have to cycle older product out more often.<br /><br />Someone mentioned in another review that the salmon smelled rather 'fishy' which initially raised an eyebrow, but the taste of the salmon was rather good although some may find it spicy.  I found the spicyness more of a zing and it faded quickly with the crackers, edamame and ginger zip trail mix.  The chocolate mini bar in the pack it a dark chocolate that has a very rich taste and a great ending to a quick meal.<br /><br />I want to try the other brands of GoPicnic for the possibility of kids at school using them once in a while for lunch.  Maybe the salmon is too strong for them unless they have their tastes developed for it.<br /><br />The edamame nuts were tasty and good addition. The crackers where nice for the meal and did not add flavor or take away flavor from the salmon and the trail mix was good.<br /><br />Overall, a great little addition for a quick hike.  The box says the total calories is about 410, pretty good for a snack that has so much variety.  I would like to see the price come down some how, however, the way it is packaged probably requires the price that you see.<br /><br />Try GoPicnic and have fun with it.\n",
      "* * * * * * * * * \n",
      "67830\n",
      "2012-05-14 00:00:00\n",
      "5\n",
      "1\n",
      "B002YR7B7C\n",
      "Finally a gluten free flour blend that doesn't leave a nasty aftertaste or feeling of grittyness!  Mama's Almond Blend works amazingly well, cup for cup, in my non-gluten free recipes.  I recommend it to anyone who is following a gluten-free lifestyle.\n",
      "* * * * * * * * * \n",
      "70659\n",
      "2011-12-11 00:00:00\n",
      "3\n",
      "2\n",
      "B000BLNU6E\n",
      "Arrived on time and in good condition. A gift for the grandkids and family - kids loved the contents, but when I came to their house, the basket & contents looked a lot smaller than the online photo. Amazing what a wide angle lense can do!\n",
      "* * * * * * * * * \n",
      "72225\n",
      "2009-01-01 00:00:00\n",
      "5\n",
      "0\n",
      "B001KUVTM2\n",
      "My family had been in love with Dove Dark Chocolate.  When we received a gift of Donckels Belgian Truffles, we were amazed!  The taste is so smooth.  Absolutely delicious!  No bitterness.  No edgy aftertaste, just deliciously silky.  You have to try it!  So now it's Dove for everyday, but Truffles for special treats.\n",
      "* * * * * * * * * \n",
      "74202\n",
      "2012-10-11 00:00:00\n",
      "4\n",
      "1\n",
      "B001L048WO\n",
      "I have only used black tea, no milk, with 5 packets of Splenda for 16-20 oz's of tea bag tea.  I like it sweet and seems I like tea the way it's tast is changed.  The loose tea is to, tea-y for me, but am getting use to it.  Only like pure black tea that is sweet like ice tea.<br />If I put Splenda in before I pour the hot water it all devolves and mixes.  I ended up with 4 tea spoons of the rock sugar to 18 oz's of tea.  I did not stir, sigh.  Well it never got sweet, but got down to the last  8 oz's and gaged it was so sweet.  Lol. Now need an ice tea spoon so I can reach and stirr. I can not have to much Splenda type sugar as to much makes me ill and have diabetes 2 so can not have much sugar.  Only things I drink other then ice water is sweet, such as crystal light.  This, IF you stirr, is sweeter then sugar using less of it. So I get the sweet I want, IF I stirr...lol, with less sugar .\n",
      "* * * * * * * * * \n",
      "74947\n",
      "2012-05-16 00:00:00\n",
      "5\n",
      "0\n",
      "B001EPPRK8\n",
      "Great for cooking and/or flavor, and easy to calibrate for best results !<br /><br />It provides for easy transition from table salt to sea salt which is full of minerals and good for health.\n",
      "* * * * * * * * * \n",
      "75313\n",
      "2010-09-28 00:00:00\n",
      "1\n",
      "8\n",
      "B001DKEPJ8\n",
      "This product says it doesn't stain asphalt roofs! It does! Beware! My once all-dark gray shingles are now stained with irrigular splash areas of a light-gray... and it won't wash off. Sprayed on a 60 degree day. Yes I read the instructions and shook the bottle well.<br /><br />Anchorage Alaska\n",
      "* * * * * * * * * \n",
      "76075\n",
      "2010-02-17 00:00:00\n",
      "5\n",
      "0\n",
      "B001EQ4HIA\n",
      "I purchased this item for a curch function.  Everyone involved was pleased with the price and the ease of use. The people at the function were pleased with the taste and the fact that that it was Crystal Light.<br />We will purchase this again to keep on hand for upcoming functions and for Sunday morning fellowship.\n",
      "* * * * * * * * * \n",
      "76533\n",
      "2007-01-15 00:00:00\n",
      "5\n",
      "1\n",
      "B0000CER6Z\n",
      "Every flavor I've tried has been delicious, and the Christmas tea is no exception. A beautiful, mellow black tea mixed with cinnamon, cloves, and orange peel - with a dab or milk it makes you feel so warm and comforted, like being home at Christmas!\n",
      "* * * * * * * * * \n",
      "77571\n",
      "2011-04-08 00:00:00\n",
      "5\n",
      "0\n",
      "B002YLI9E2\n",
      "All the years of feeling like I could never have movie popcorn at home is now kaput.  After reading the reviews on here, I thought I'd give the Paragon Coconut Oil a try.  Like the others have said, it gives popcorn the smell and taste like the theatres.  Pair this up with some Flavacol salt and you won't know the difference.  This is a big tub, so it should last a while.  Great flavor.  Definitely recommend!!!\n",
      "* * * * * * * * * \n",
      "78173\n",
      "2008-07-21 00:00:00\n",
      "5\n",
      "1\n",
      "B000QCBH0O\n",
      "My 12 year old 65 pound mutt was getting ready to be put down from advancing arthritis. I saw a bag of these in a discount bin at a pet store and thought what the heck.. I was not ready to believe the results. Instead of dragging her hind legs to get up and limping for the first few steps like she had for months she was like a puppy again.. That was 3 yars ago she is 15 and still romping ... I love these things so much I started tart cherry extract myself..WOW\n",
      "* * * * * * * * * \n",
      "79122\n",
      "2011-04-08 00:00:00\n",
      "4\n",
      "2\n",
      "B00954NY46\n",
      "Jolt-wise, this is a nice, gentle introduction to Extra Bold. (Darker roast, therefore less caffeine than most XB's.) The taste is charcoal, with charcoal notes and a charcoal finish.  I have a sweet tooth and tend to prefer the sweeter, smoother coffees.  However, I occasionally have a Double Black Diamond because it wakes me up without making me jittery.\n",
      "* * * * * * * * * \n",
      "79271\n",
      "2012-07-06 00:00:00\n",
      "5\n",
      "0\n",
      "B000GZYAN2\n",
      "This is an awesome product. I work at a weight loss camp as a nutrition and culinary instructor, which means that one of my duties is to serve snack to the campers twice a day. This one is a FAVORITE around here with the kids AND staff! You can prepare it using applesauce or yogurt, like the box says. Both come out really awesome. They do tend to be a bit gooey when you cut them--not a huge problem though! There is enough stability to cut pieces and serve them for sure. Awesome product. I will be purchasing some when I go home from camp!\n",
      "* * * * * * * * * \n",
      "79324\n",
      "2008-06-28 00:00:00\n",
      "4\n",
      "0\n",
      "B001EQ55RW\n",
      "These chocolate-flavored almonds were suprisingly delicious.  They are not chocolate-covered but have a chocolate flavoring.  This brings me to my only negative comment...the ingredients are only listed as natural and artificial flavors without specifying what they are which would be nice to know.\n",
      "* * * * * * * * * \n",
      "81193\n",
      "2012-02-03 00:00:00\n",
      "5\n",
      "1\n",
      "B0037BONRK\n",
      "Today I am buying my second bottle of this Kirkland Vanilla Extract, and that alone is a review!<br /><br />While this may not be an absolutely premium product, it is as good as the name brands in teensy, weensy little bottles at the supermarket, and it is drastically less expensive.<br /><br />I have not used this vanilla in baking, only in pudding, and the flavor was perfect. Maybe I am just not fussy. I do know that the teensy, weensy little bottles of Vanilla from the supermarket lasted a whole lot longer because of their cost. I found myself saving them for baked goods or other foods that I made for other people, and, at least in pudding for just myself, I did not use any vanilla to save money. Now I never fail to use vanilla when I want to.\n",
      "* * * * * * * * * \n",
      "85561\n",
      "2007-12-03 00:00:00\n",
      "3\n",
      "4\n",
      "B000EGZ9AQ\n",
      "The white Jasmati rice is not as aromatic or flavorful as the white Basmati rice. Don't know why - suppose because one is grown in rice paddys overseas and the Jasmati Organic is grown in American soil and conditions?<br />The brown Jasmati rice is great - ! - more flavorful and smell is wonderful.\n",
      "* * * * * * * * * \n",
      "85876\n",
      "2012-05-29 00:00:00\n",
      "5\n",
      "1\n",
      "B0017WFX6G\n",
      "I bought this product after my dishwasher developed a leak.  I unclogged the drain and have been using just 1/4 to 1/2 a teaspoon per wash to keep my dishwasher clean.\n",
      "* * * * * * * * * \n",
      "86173\n",
      "2012-04-04 00:00:00\n",
      "5\n",
      "3\n",
      "B000ETQ4XE\n",
      "My husband loves massaman curry. So I thought I would be on the search for a vegetarian curry paste. This product is totally vegeterian, no fish, shrimp, or other animal by-product. Just add coconut milk and whatever veggies you want and you're done...great for quick curries. Totally recommend.\n",
      "* * * * * * * * * \n",
      "87231\n",
      "2009-12-23 00:00:00\n",
      "5\n",
      "3\n",
      "B000NMJWZO\n",
      "I bought this awhile back, thinking that 12 pounds of baking mix seemed absurd, but I am so glad I got it. This mix is wonderful. It makes delicious pancakes, for starters. The pancakes are so good that my gluten eating sister doesn't know the difference between these and her \"regular\" pancakes.<br /><br />But even more important, there are so many things that can be made with the mix. On the back of the package are lots of recipes for quick breads, muffins, waffles, crepes, and biscuits. I made the biscuits today and was impressed. I've had other biscuit mixes before that were entirely too sweet and too dry. These were perfectly flavored and delicious. The mix is also perfect for making roux, which is great for gravies and sauces. I tried making a pizza crust with it and it was okay, but not quite right... the bread mix is probably better.<br /><br />Pamela's Products has an awesome website full of recipes for each baking mix. I highly recommend checking it out. This mix can be used in so many ways, so keep that in mind. I'd say between this and Annalise Roberts' <a href=\"http://www.amazon.com/gp/product/1572840994\">Gluten-Free Baking Classics</a> my gluten-free lifestyle has been a much easier adjustment.<br /><br />I set my subscription for this every six months. I've gone through one bag in about a month, so I think I have it about right. This mix has been amazing for breakfast foods. I recommend it to anyone going gluten-free!\n",
      "* * * * * * * * * \n",
      "89253\n",
      "2011-07-08 00:00:00\n",
      "5\n",
      "1\n",
      "B00354I6BI\n",
      "My family loves tradewinds unsweet tea.We live in Middletown NY.What stores carry this tea.Why is it so hard to find.Please help.It is so much money to order it.I have even been to Sams club.They have reg but not unsweetened.\n",
      "* * * * * * * * * \n"
     ]
    }
   ],
   "source": [
    "# false positives\n",
    "\n",
    "import random, time\n",
    "\n",
    "for i in range(0, len(ridge_predictions)):\n",
    "    if (ridge_predictions[i] == True):\n",
    "        if (amazon.loc[i, \"helpful\"] == False):\n",
    "            if (random.uniform(0, 1) < 0.05):\n",
    "                print(i)\n",
    "                print(time.strftime('%Y-%m-%d %H:%M:%S', time.gmtime(amazon.loc[i, \"Time\"])))\n",
    "                print(amazon.loc[i, \"Score\"])\n",
    "                print(amazon.loc[i, \"HelpfulnessDenominator\"])\n",
    "                print(amazon.loc[i, \"ProductId\"])\n",
    "                print(amazon.loc[i, \"Text\"])\n",
    "                print('* * * * * * * * * ')"
   ]
  },
  {
   "cell_type": "code",
   "execution_count": null,
   "metadata": {},
   "outputs": [],
   "source": []
  }
 ],
 "metadata": {
  "kernelspec": {
   "display_name": "Python 3",
   "language": "python",
   "name": "python3"
  },
  "language_info": {
   "codemirror_mode": {
    "name": "ipython",
    "version": 3
   },
   "file_extension": ".py",
   "mimetype": "text/x-python",
   "name": "python",
   "nbconvert_exporter": "python",
   "pygments_lexer": "ipython3",
   "version": "3.7.1"
  }
 },
 "nbformat": 4,
 "nbformat_minor": 1
}
