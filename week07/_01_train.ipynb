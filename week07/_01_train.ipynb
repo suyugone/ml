{
 "cells": [
  {
   "cell_type": "markdown",
   "metadata": {},
   "source": [
    "# Training Set"
   ]
  },
  {
   "cell_type": "code",
   "execution_count": 1,
   "metadata": {},
   "outputs": [],
   "source": [
    "import numpy as np\n",
    "import pandas as pd\n",
    "import matplotlib.pyplot as plt\n",
    "from sklearn.externals import joblib\n",
    "%matplotlib inline"
   ]
  },
  {
   "cell_type": "markdown",
   "metadata": {},
   "source": [
    "### Read raw training data"
   ]
  },
  {
   "cell_type": "code",
   "execution_count": 2,
   "metadata": {},
   "outputs": [
    {
     "name": "stdout",
     "output_type": "stream",
     "text": [
      "(364000, 14)\n"
     ]
    }
   ],
   "source": [
    "amazon = pd.read_csv('/Users/Aaron_hill/Dropbox/data/ml_19/amazon_data/raw_data_train.csv')\n",
    "print(amazon.shape)"
   ]
  },
  {
   "cell_type": "code",
   "execution_count": 3,
   "metadata": {},
   "outputs": [
    {
     "name": "stdout",
     "output_type": "stream",
     "text": [
      "   Unnamed: 0  Unnamed: 0.1      Id   ProductId          UserId  \\\n",
      "0      411691         18077   18078  B008ZRKZSM  A1F46LDQHEG0II   \n",
      "1      129031         55240   55241  B00110C04M   A9E4DT8PPC33A   \n",
      "2      381650        499749  499750  B000VVTTPA  A174BBGE21P9NL   \n",
      "3      444366         78296   78297  B0069AA4Q0  A1D847PJXKDCVF   \n",
      "4      190015        535270  535271  B0000ZSH8M   A4OOLWKWQR3UZ   \n",
      "\n",
      "       ProfileName  HelpfulnessNumerator  HelpfulnessDenominator  Score  \\\n",
      "0         Vulpes13                     0                       0      5   \n",
      "1      Joan Bailey                     0                       0      5   \n",
      "2         C. Burns                     3                       3      5   \n",
      "3  Long Island MOM                     2                      12      1   \n",
      "4             Lana                     4                       4      5   \n",
      "\n",
      "         Time                                 Summary  \\\n",
      "0  1336608000                           Really great!   \n",
      "1  1240531200                                    Yum!   \n",
      "2  1320451200  This is the best coconut oil available   \n",
      "3  1336780800                           Not Kobe Beef   \n",
      "4  1225238400                             Great juice   \n",
      "\n",
      "                                                Text  helpScore  helpful  \n",
      "0  I really like this product!  I first read abou...        NaN    False  \n",
      "1  Can't go wrong with Chips Ahoy. Great cookie. ...        NaN    False  \n",
      "2  I have been using Tropical Traditions Coconut ...   1.000000    False  \n",
      "3  It has been illegal for the last 10 years to i...   0.166667    False  \n",
      "4  Great tasting juice, there is nothing else in ...   1.000000     True  \n",
      "0.073\n"
     ]
    }
   ],
   "source": [
    "print(amazon.head())\n",
    "print(amazon['helpful'].mean())"
   ]
  },
  {
   "cell_type": "markdown",
   "metadata": {},
   "source": [
    "### Feature extraction on natural language data"
   ]
  },
  {
   "cell_type": "code",
   "execution_count": 4,
   "metadata": {},
   "outputs": [],
   "source": [
    "# # http://scikit-learn.org/stable/modules/generated/sklearn.feature_extraction.text.CountVectorizer.html\n",
    "# from sklearn.feature_extraction.text import CountVectorizer\n",
    "# vectorizer = CountVectorizer()\n",
    "# corpus = amazon.Text.as_matrix()\n",
    "# X_bag_of_words = vectorizer.fit_transform(corpus)\n",
    "# print(X_bag_of_words.toarray())"
   ]
  },
  {
   "cell_type": "code",
   "execution_count": 5,
   "metadata": {},
   "outputs": [
    {
     "name": "stderr",
     "output_type": "stream",
     "text": [
      "/anaconda3/lib/python3.7/site-packages/sklearn/feature_extraction/hashing.py:102: DeprecationWarning: the option non_negative=True has been deprecated in 0.19 and will be removed in version 0.21.\n",
      "  \" in version 0.21.\", DeprecationWarning)\n",
      "/anaconda3/lib/python3.7/site-packages/sklearn/feature_extraction/hashing.py:102: DeprecationWarning: the option non_negative=True has been deprecated in 0.19 and will be removed in version 0.21.\n",
      "  \" in version 0.21.\", DeprecationWarning)\n"
     ]
    },
    {
     "name": "stdout",
     "output_type": "stream",
     "text": [
      "(364000, 131072)\n"
     ]
    }
   ],
   "source": [
    "# vectorize Bag of Words from review text; as sparse matrix\n",
    "from sklearn.feature_extraction.text import HashingVectorizer\n",
    "hv = HashingVectorizer(n_features=2 ** 17, non_negative=True)\n",
    "X_hv = hv.fit_transform(amazon.Text)\n",
    "print(X_hv.shape)"
   ]
  },
  {
   "cell_type": "code",
   "execution_count": 6,
   "metadata": {},
   "outputs": [
    {
     "data": {
      "text/plain": [
       "scipy.sparse.csr.csr_matrix"
      ]
     },
     "execution_count": 6,
     "metadata": {},
     "output_type": "execute_result"
    }
   ],
   "source": [
    "type(X_hv)"
   ]
  },
  {
   "cell_type": "code",
   "execution_count": 7,
   "metadata": {},
   "outputs": [
    {
     "data": {
      "text/plain": [
       "['hv.pkl']"
      ]
     },
     "execution_count": 7,
     "metadata": {},
     "output_type": "execute_result"
    }
   ],
   "source": [
    "# We want to be able to use this model fit on other data (the test set)\n",
    "# So let's save a copy of this instance of HashingVectorizer to be able to transform other data with this fit\n",
    "# http://scikit-learn.org/stable/modules/model_persistence.html\n",
    "joblib.dump(hv, 'hv.pkl') # pickle"
   ]
  },
  {
   "cell_type": "code",
   "execution_count": 8,
   "metadata": {},
   "outputs": [
    {
     "data": {
      "text/plain": [
       "['transformer.pkl']"
      ]
     },
     "execution_count": 8,
     "metadata": {},
     "output_type": "execute_result"
    }
   ],
   "source": [
    "# http://scikit-learn.org/stable/modules/generated/sklearn.feature_extraction.text.TfidfTransformer.html\n",
    "from sklearn.feature_extraction.text import TfidfTransformer\n",
    "transformer = TfidfTransformer()\n",
    "X_tfidf = transformer.fit_transform(X_hv)\n",
    "\n",
    "joblib.dump(transformer, 'transformer.pkl') # pickle"
   ]
  },
  {
   "cell_type": "code",
   "execution_count": 9,
   "metadata": {},
   "outputs": [
    {
     "name": "stdout",
     "output_type": "stream",
     "text": [
      "<class 'scipy.sparse.csr.csr_matrix'>\n"
     ]
    }
   ],
   "source": [
    "print(type(X_tfidf))"
   ]
  },
  {
   "cell_type": "markdown",
   "metadata": {
    "collapsed": true
   },
   "source": [
    "### Create additional quantitative features"
   ]
  },
  {
   "cell_type": "code",
   "execution_count": 10,
   "metadata": {},
   "outputs": [
    {
     "name": "stdout",
     "output_type": "stream",
     "text": [
      "   Score  reviewLen\n",
      "0      5        615\n",
      "1      5        197\n",
      "2      5       1013\n",
      "3      1        158\n",
      "4      5        115\n",
      "5      5        723\n",
      "6      5        371\n",
      "7      5        187\n",
      "8      5        400\n",
      "9      3        319\n",
      "<class 'pandas.core.frame.DataFrame'>\n"
     ]
    }
   ],
   "source": [
    "# features from Amazon.csv to add to feature set\n",
    "amazon['reviewLen'] = amazon['Text'].str.len()\n",
    "\n",
    "X_quant_features = amazon[[\"Score\", \"reviewLen\"]]\n",
    "print(X_quant_features.head(10))\n",
    "print(type(X_quant_features))"
   ]
  },
  {
   "cell_type": "markdown",
   "metadata": {},
   "source": [
    "### Combine all quantitative features into a single sparse matrix"
   ]
  },
  {
   "cell_type": "code",
   "execution_count": 11,
   "metadata": {},
   "outputs": [
    {
     "name": "stdout",
     "output_type": "stream",
     "text": [
      "(364000, 131074)\n"
     ]
    }
   ],
   "source": [
    "from scipy.sparse import csr_matrix, hstack\n",
    "X_quant_features_csr = csr_matrix(X_quant_features)\n",
    "X_combined = hstack([X_tfidf, X_quant_features_csr])\n",
    "X_matrix = csr_matrix(X_combined) # convert to sparse matrix\n",
    "print(X_matrix.shape)"
   ]
  },
  {
   "cell_type": "code",
   "execution_count": 12,
   "metadata": {},
   "outputs": [
    {
     "name": "stdout",
     "output_type": "stream",
     "text": [
      "  (0, 4412)\t0.20704727475672305\n",
      "  (0, 8564)\t0.1410656350949346\n",
      "  (0, 13677)\t0.10648391071832419\n",
      "  (0, 20064)\t0.2665807901508493\n",
      "  (0, 24734)\t0.16887965863658164\n",
      "  (0, 25710)\t0.2634216728552922\n",
      "  (0, 29117)\t0.3031288366646191\n",
      "  (0, 41987)\t0.28515738970133897\n",
      "  (0, 42257)\t0.11956722447119084\n",
      "  (0, 45525)\t0.219893075494904\n",
      "  (0, 47363)\t0.2893978687426263\n",
      "  (0, 58571)\t0.11584422400243687\n",
      "  (0, 70406)\t0.35357793877510657\n",
      "  (0, 86198)\t0.16628382919565166\n",
      "  (0, 97189)\t0.26410617320252855\n",
      "  (0, 98369)\t0.1644396662295959\n",
      "  (0, 118960)\t0.2983137038818454\n",
      "  (0, 124197)\t0.2923065492567305\n",
      "  (0, 131072)\t5.0\n",
      "  (0, 131073)\t104.0\n"
     ]
    }
   ],
   "source": [
    "# look at an example of a \"row\" of a sparse matrix\n",
    "print(X_matrix[1234])"
   ]
  },
  {
   "cell_type": "markdown",
   "metadata": {},
   "source": [
    "### Create `X`, scaled matrix of features"
   ]
  },
  {
   "cell_type": "code",
   "execution_count": 13,
   "metadata": {},
   "outputs": [
    {
     "name": "stdout",
     "output_type": "stream",
     "text": [
      "(364000, 131074)\n"
     ]
    },
    {
     "data": {
      "text/plain": [
       "['sc.pkl']"
      ]
     },
     "execution_count": 13,
     "metadata": {},
     "output_type": "execute_result"
    }
   ],
   "source": [
    "# feature scaling\n",
    "from sklearn.preprocessing import StandardScaler\n",
    "sc = StandardScaler(with_mean=False)\n",
    "X = sc.fit_transform(X_matrix)\n",
    "print(X.shape)\n",
    "\n",
    "joblib.dump(sc, 'sc.pkl') # pickle"
   ]
  },
  {
   "cell_type": "markdown",
   "metadata": {},
   "source": [
    "### create `y`, vector of Labels"
   ]
  },
  {
   "cell_type": "code",
   "execution_count": 14,
   "metadata": {},
   "outputs": [
    {
     "name": "stdout",
     "output_type": "stream",
     "text": [
      "<class 'numpy.ndarray'>\n"
     ]
    }
   ],
   "source": [
    "y = amazon['helpful'].values\n",
    "print(type(y))"
   ]
  },
  {
   "cell_type": "markdown",
   "metadata": {},
   "source": [
    "# fit models"
   ]
  },
  {
   "cell_type": "code",
   "execution_count": 15,
   "metadata": {},
   "outputs": [],
   "source": [
    "from my_measures import BinaryClassificationPerformance"
   ]
  },
  {
   "cell_type": "markdown",
   "metadata": {},
   "source": [
    "### MODEL: ordinary least squares"
   ]
  },
  {
   "cell_type": "code",
   "execution_count": 16,
   "metadata": {},
   "outputs": [
    {
     "name": "stderr",
     "output_type": "stream",
     "text": [
      "/anaconda3/lib/python3.7/site-packages/sklearn/linear_model/stochastic_gradient.py:166: FutureWarning: max_iter and tol parameters have been added in SGDClassifier in 0.19. If both are left unset, they default to max_iter=5 and tol=None. If tol is not None, max_iter defaults to max_iter=1000. From 0.21, default max_iter will be 1000, and default tol will be 1e-3.\n",
      "  FutureWarning)\n"
     ]
    },
    {
     "name": "stdout",
     "output_type": "stream",
     "text": [
      "{'Pos': 26572, 'Neg': 337428, 'TP': 13864, 'TN': 158815, 'FP': 178613, 'FN': 12708, 'Accuracy': 0.4743928571428571, 'Precision': 0.07202938532915622, 'Recall': 0.5217522203823574, 'desc': 'ols'}\n"
     ]
    }
   ],
   "source": [
    "from sklearn import linear_model\n",
    "ols = linear_model.SGDClassifier(loss=\"squared_loss\")\n",
    "ols.fit(X, y)\n",
    "joblib.dump(ols, 'ols.pkl') # pickle\n",
    "\n",
    "ols_performance = BinaryClassificationPerformance(ols.predict(X), y, 'ols')\n",
    "ols_performance.compute_measures()\n",
    "print(ols_performance.performance_measures)"
   ]
  },
  {
   "cell_type": "markdown",
   "metadata": {},
   "source": [
    "### MODEL: SVM, linear"
   ]
  },
  {
   "cell_type": "code",
   "execution_count": 17,
   "metadata": {},
   "outputs": [
    {
     "name": "stdout",
     "output_type": "stream",
     "text": [
      "{'Pos': 26572, 'Neg': 337428, 'TP': 12181, 'TN': 323862, 'FP': 13566, 'FN': 14391, 'Accuracy': 0.9231950549450549, 'Precision': 0.47310366256262865, 'Recall': 0.45841487279843446, 'desc': 'svm'}\n"
     ]
    }
   ],
   "source": [
    "from sklearn import linear_model\n",
    "svm = linear_model.SGDClassifier()\n",
    "svm.fit(X, y)\n",
    "joblib.dump(svm, 'svm.pkl') # pickle\n",
    "\n",
    "svm_performance = BinaryClassificationPerformance(svm.predict(X), y, 'svm')\n",
    "svm_performance.compute_measures()\n",
    "print(svm_performance.performance_measures)"
   ]
  },
  {
   "cell_type": "markdown",
   "metadata": {},
   "source": [
    "### MODEL: logistic regression"
   ]
  },
  {
   "cell_type": "code",
   "execution_count": 18,
   "metadata": {},
   "outputs": [
    {
     "name": "stderr",
     "output_type": "stream",
     "text": [
      "/anaconda3/lib/python3.7/site-packages/sklearn/linear_model/stochastic_gradient.py:152: DeprecationWarning: n_iter parameter is deprecated in 0.19 and will be removed in 0.21. Use max_iter and tol instead.\n",
      "  DeprecationWarning)\n"
     ]
    },
    {
     "name": "stdout",
     "output_type": "stream",
     "text": [
      "{'Pos': 26572, 'Neg': 337428, 'TP': 12739, 'TN': 327262, 'FP': 10166, 'FN': 13833, 'Accuracy': 0.9340686813186814, 'Precision': 0.5561667758131412, 'Recall': 0.47941442119524313, 'desc': 'lgs'}\n"
     ]
    }
   ],
   "source": [
    "from sklearn import linear_model\n",
    "lgs = linear_model.SGDClassifier(loss='log', n_iter=50, alpha=0.00001)\n",
    "lgs.fit(X, y)\n",
    "joblib.dump(lgs, 'lgs.pkl') # pickle\n",
    "\n",
    "lgs_performance = BinaryClassificationPerformance(lgs.predict(X), y, 'lgs')\n",
    "lgs_performance.compute_measures()\n",
    "print(lgs_performance.performance_measures)"
   ]
  },
  {
   "cell_type": "markdown",
   "metadata": {},
   "source": [
    "### MODEL: Naive Bayes"
   ]
  },
  {
   "cell_type": "code",
   "execution_count": 19,
   "metadata": {},
   "outputs": [
    {
     "name": "stdout",
     "output_type": "stream",
     "text": [
      "{'Pos': 26572, 'Neg': 337428, 'TP': 17218, 'TN': 295183, 'FP': 42245, 'FN': 9354, 'Accuracy': 0.8582445054945055, 'Precision': 0.28955821267006376, 'Recall': 0.647975312358874, 'desc': 'nbs'}\n"
     ]
    }
   ],
   "source": [
    "from sklearn.naive_bayes import MultinomialNB\n",
    "nbs = MultinomialNB()\n",
    "nbs.fit(X, y)\n",
    "joblib.dump(nbs, 'nbs.pkl') # pickle\n",
    "\n",
    "nbs_performance = BinaryClassificationPerformance(nbs.predict(X), y, 'nbs')\n",
    "nbs_performance.compute_measures()\n",
    "print(nbs_performance.performance_measures)"
   ]
  },
  {
   "cell_type": "markdown",
   "metadata": {},
   "source": [
    "### MODEL: Perceptron"
   ]
  },
  {
   "cell_type": "code",
   "execution_count": 20,
   "metadata": {},
   "outputs": [
    {
     "name": "stderr",
     "output_type": "stream",
     "text": [
      "/anaconda3/lib/python3.7/site-packages/sklearn/linear_model/stochastic_gradient.py:166: FutureWarning: max_iter and tol parameters have been added in SGDClassifier in 0.19. If both are left unset, they default to max_iter=5 and tol=None. If tol is not None, max_iter defaults to max_iter=1000. From 0.21, default max_iter will be 1000, and default tol will be 1e-3.\n",
      "  FutureWarning)\n"
     ]
    },
    {
     "name": "stdout",
     "output_type": "stream",
     "text": [
      "{'Pos': 26572, 'Neg': 337428, 'TP': 12246, 'TN': 324012, 'FP': 13416, 'FN': 14326, 'Accuracy': 0.9237857142857143, 'Precision': 0.47720364741641336, 'Recall': 0.4608610567514677, 'desc': 'prc'}\n"
     ]
    }
   ],
   "source": [
    "from sklearn import linear_model\n",
    "prc = linear_model.SGDClassifier(loss='perceptron')\n",
    "prc.fit(X, y)\n",
    "joblib.dump(prc, 'prc.pkl') # pickle\n",
    "\n",
    "prc_performance = BinaryClassificationPerformance(prc.predict(X), y, 'prc')\n",
    "prc_performance.compute_measures()\n",
    "print(prc_performance.performance_measures)"
   ]
  },
  {
   "cell_type": "markdown",
   "metadata": {},
   "source": [
    "### MODEL: Ridge Regression Classifier"
   ]
  },
  {
   "cell_type": "code",
   "execution_count": 21,
   "metadata": {},
   "outputs": [
    {
     "name": "stdout",
     "output_type": "stream",
     "text": [
      "{'Pos': 26572, 'Neg': 337428, 'TP': 8002, 'TN': 336809, 'FP': 619, 'FN': 18570, 'Accuracy': 0.947282967032967, 'Precision': 0.9281985848509454, 'Recall': 0.301144061418034, 'desc': 'rdg'}\n"
     ]
    }
   ],
   "source": [
    "from sklearn import linear_model\n",
    "rdg = linear_model.RidgeClassifier(alpha=5.0)\n",
    "rdg.fit(X, y)\n",
    "joblib.dump(rdg, 'rdg.pkl') # pickle\n",
    "\n",
    "rdg_performance = BinaryClassificationPerformance(rdg.predict(X), y, 'rdg')\n",
    "rdg_performance.compute_measures()\n",
    "print(rdg_performance.performance_measures)"
   ]
  },
  {
   "cell_type": "code",
   "execution_count": 22,
   "metadata": {},
   "outputs": [
    {
     "data": {
      "text/plain": [
       "{'alpha': 5.0,\n",
       " 'class_weight': None,\n",
       " 'copy_X': True,\n",
       " 'fit_intercept': True,\n",
       " 'max_iter': None,\n",
       " 'normalize': False,\n",
       " 'random_state': None,\n",
       " 'solver': 'auto',\n",
       " 'tol': 0.001}"
      ]
     },
     "execution_count": 22,
     "metadata": {},
     "output_type": "execute_result"
    }
   ],
   "source": [
    "rdg.get_params()"
   ]
  },
  {
   "cell_type": "markdown",
   "metadata": {},
   "source": [
    "### What is the distribution of weights, OLS vs. ridge? "
   ]
  },
  {
   "cell_type": "code",
   "execution_count": 24,
   "metadata": {},
   "outputs": [
    {
     "data": {
      "image/png": "[encoded data removed]",
      "text/plain": [
       "<Figure size 432x288 with 1 Axes>"
      ]
     },
     "metadata": {
      "needs_background": "light"
     },
     "output_type": "display_data"
    },
    {
     "data": {
      "image/png": "[encoded data removed]",
      "text/plain": [
       "<Figure size 432x288 with 1 Axes>"
      ]
     },
     "metadata": {
      "needs_background": "light"
     },
     "output_type": "display_data"
    }
   ],
   "source": [
    "plt.hist(ols.coef_[0])\n",
    "plt.show()\n",
    "\n",
    "plt.hist(rdg.coef_[0])\n",
    "plt.show()"
   ]
  },
  {
   "cell_type": "markdown",
   "metadata": {},
   "source": [
    "### MODEL: Decision Tree Classifier"
   ]
  },
  {
   "cell_type": "code",
   "execution_count": 23,
   "metadata": {},
   "outputs": [
    {
     "name": "stdout",
     "output_type": "stream",
     "text": [
      "{'Pos': 26572, 'Neg': 337428, 'TP': 10575, 'TN': 337396, 'FP': 32, 'FN': 15997, 'Accuracy': 0.9559642857142857, 'Precision': 0.9969831243518431, 'Recall': 0.397975312358874, 'desc': 'dtc'}\n"
     ]
    }
   ],
   "source": [
    "from sklearn import tree\n",
    "dtc = tree.DecisionTreeClassifier(max_depth=100)\n",
    "dtc.fit(X_matrix, y)\n",
    "joblib.dump(dtc, 'dtc.pkl') # pickle\n",
    "\n",
    "dtc_performance = BinaryClassificationPerformance(dtc.predict(X_matrix), y, 'dtc')\n",
    "dtc_performance.compute_measures()\n",
    "print(dtc_performance.performance_measures)"
   ]
  },
  {
   "cell_type": "markdown",
   "metadata": {},
   "source": [
    "### ROC plot to compare performance of various models and fits"
   ]
  },
  {
   "cell_type": "code",
   "execution_count": 25,
   "metadata": {},
   "outputs": [
    {
     "data": {
      "image/png": "[encoded data removed]",
      "text/plain": [
       "<Figure size 432x288 with 1 Axes>"
      ]
     },
     "metadata": {
      "needs_background": "light"
     },
     "output_type": "display_data"
    }
   ],
   "source": [
    "fits = [svm_performance, lgs_performance, rdg_performance, prc_performance, ols_performance, dtc_performance, nbs_performance]\n",
    "\n",
    "for fit in fits:\n",
    "    plt.plot(fit.performance_measures['FP'] / fit.performance_measures['Neg'], \n",
    "             fit.performance_measures['TP'] / fit.performance_measures['Pos'], 'ro')\n",
    "    plt.text(fit.performance_measures['FP'] / fit.performance_measures['Neg'], \n",
    "             fit.performance_measures['TP'] / fit.performance_measures['Pos'], fit.desc)\n",
    "plt.axis([0, 1, 0, 1])\n",
    "plt.title('ROC plot: training set')\n",
    "plt.xlabel('False positive rate')\n",
    "plt.ylabel('True positive rate')\n",
    "plt.show()"
   ]
  },
  {
   "cell_type": "markdown",
   "metadata": {},
   "source": [
    "## a digression: looking inside the `rdg` object\n",
    "\n",
    "[documentation](https://scikit-learn.org/stable/modules/generated/sklearn.linear_model.RidgeClassifier.html)"
   ]
  },
  {
   "cell_type": "code",
   "execution_count": 26,
   "metadata": {},
   "outputs": [
    {
     "data": {
      "text/plain": [
       "['__abstractmethods__',\n",
       " '__class__',\n",
       " '__delattr__',\n",
       " '__dict__',\n",
       " '__dir__',\n",
       " '__doc__',\n",
       " '__eq__',\n",
       " '__format__',\n",
       " '__ge__',\n",
       " '__getattribute__',\n",
       " '__getstate__',\n",
       " '__gt__',\n",
       " '__hash__',\n",
       " '__init__',\n",
       " '__init_subclass__',\n",
       " '__le__',\n",
       " '__lt__',\n",
       " '__module__',\n",
       " '__ne__',\n",
       " '__new__',\n",
       " '__reduce__',\n",
       " '__reduce_ex__',\n",
       " '__repr__',\n",
       " '__setattr__',\n",
       " '__setstate__',\n",
       " '__sizeof__',\n",
       " '__str__',\n",
       " '__subclasshook__',\n",
       " '__weakref__',\n",
       " '_abc_impl',\n",
       " '_decision_function',\n",
       " '_estimator_type',\n",
       " '_get_param_names',\n",
       " '_label_binarizer',\n",
       " '_predict_proba_lr',\n",
       " '_preprocess_data',\n",
       " '_set_intercept',\n",
       " 'alpha',\n",
       " 'class_weight',\n",
       " 'classes_',\n",
       " 'coef_',\n",
       " 'copy_X',\n",
       " 'decision_function',\n",
       " 'fit',\n",
       " 'fit_intercept',\n",
       " 'get_params',\n",
       " 'intercept_',\n",
       " 'max_iter',\n",
       " 'n_iter_',\n",
       " 'normalize',\n",
       " 'predict',\n",
       " 'random_state',\n",
       " 'score',\n",
       " 'set_params',\n",
       " 'solver',\n",
       " 'tol']"
      ]
     },
     "execution_count": 26,
     "metadata": {},
     "output_type": "execute_result"
    }
   ],
   "source": [
    "dir(rdg)"
   ]
  },
  {
   "cell_type": "code",
   "execution_count": 27,
   "metadata": {},
   "outputs": [
    {
     "data": {
      "text/plain": [
       "{'alpha': 5.0,\n",
       " 'class_weight': None,\n",
       " 'copy_X': True,\n",
       " 'fit_intercept': True,\n",
       " 'max_iter': None,\n",
       " 'normalize': False,\n",
       " 'random_state': None,\n",
       " 'solver': 'auto',\n",
       " 'tol': 0.001}"
      ]
     },
     "execution_count": 27,
     "metadata": {},
     "output_type": "execute_result"
    }
   ],
   "source": [
    "rdg.get_params()"
   ]
  },
  {
   "cell_type": "code",
   "execution_count": 28,
   "metadata": {},
   "outputs": [
    {
     "data": {
      "text/plain": [
       "numpy.ndarray"
      ]
     },
     "execution_count": 28,
     "metadata": {},
     "output_type": "execute_result"
    }
   ],
   "source": [
    "type(rdg.coef_)"
   ]
  },
  {
   "cell_type": "code",
   "execution_count": 29,
   "metadata": {},
   "outputs": [
    {
     "data": {
      "text/plain": [
       "(1, 131074)"
      ]
     },
     "execution_count": 29,
     "metadata": {},
     "output_type": "execute_result"
    }
   ],
   "source": [
    "rdg.coef_.shape"
   ]
  },
  {
   "cell_type": "code",
   "execution_count": 30,
   "metadata": {},
   "outputs": [
    {
     "name": "stdout",
     "output_type": "stream",
     "text": [
      "[-0.00070527  0.          0.         ...  0.00012135  0.00029041\n",
      "  0.07247437]\n"
     ]
    }
   ],
   "source": [
    "print(rdg.coef_[0])"
   ]
  },
  {
   "cell_type": "code",
   "execution_count": 31,
   "metadata": {},
   "outputs": [
    {
     "data": {
      "image/png": "[encoded data removed]",
      "text/plain": [
       "<Figure size 432x288 with 1 Axes>"
      ]
     },
     "metadata": {
      "needs_background": "light"
     },
     "output_type": "display_data"
    }
   ],
   "source": [
    "plt.hist(rdg.coef_[0])\n",
    "plt.show()"
   ]
  },
  {
   "cell_type": "markdown",
   "metadata": {},
   "source": [
    "# looking at reviews based on their classification\n",
    "\n",
    "Let's say we decide that Ridge Regression is the best model for generalization. Let's take a look at some of the reviews and try to make a (subjective) determination of whether it's generalizing well. "
   ]
  },
  {
   "cell_type": "code",
   "execution_count": 32,
   "metadata": {},
   "outputs": [
    {
     "data": {
      "text/plain": [
       "\"I really like this product!  I first read about it in my Diabetic Living magazine and since I love peanut butter, wanted to give it a try.  While it will never replace the real thing, it had a really good roasted peanut flavor and a smooth, creamy texture.  I ate it smeared over two Corn Thin cakes, with 1/2 tbsp of reduced sugar jam and it was really satisfying, all for 104 calories! I probably won't eat this by the spoonful, like I love to do with peanut butter, but it will be great in sandwiches or with apples as a healthy snack.  I am very satisfied with the taste and texture of this peanut butter.  Yay!\""
      ]
     },
     "execution_count": 32,
     "metadata": {},
     "output_type": "execute_result"
    }
   ],
   "source": [
    "amazon.loc[0, \"Text\"]"
   ]
  },
  {
   "cell_type": "code",
   "execution_count": 33,
   "metadata": {},
   "outputs": [
    {
     "data": {
      "text/plain": [
       "False"
      ]
     },
     "execution_count": 33,
     "metadata": {},
     "output_type": "execute_result"
    }
   ],
   "source": [
    "amazon.loc[0, \"helpful\"]"
   ]
  },
  {
   "cell_type": "code",
   "execution_count": 34,
   "metadata": {},
   "outputs": [],
   "source": [
    "ridge_predictions = rdg.predict(X)"
   ]
  },
  {
   "cell_type": "code",
   "execution_count": 35,
   "metadata": {},
   "outputs": [
    {
     "data": {
      "text/plain": [
       "(364000,)"
      ]
     },
     "execution_count": 35,
     "metadata": {},
     "output_type": "execute_result"
    }
   ],
   "source": [
    "ridge_predictions.shape"
   ]
  },
  {
   "cell_type": "code",
   "execution_count": 36,
   "metadata": {},
   "outputs": [
    {
     "name": "stdout",
     "output_type": "stream",
     "text": [
      "[False False False ... False False False]\n"
     ]
    }
   ],
   "source": [
    "print(ridge_predictions)"
   ]
  },
  {
   "cell_type": "code",
   "execution_count": 37,
   "metadata": {},
   "outputs": [
    {
     "name": "stdout",
     "output_type": "stream",
     "text": [
      "9374\n",
      "2012-10-08 00:00:00\n",
      "5\n",
      "0\n",
      "B0043V5SN6\n",
      "This Ocean Spray jellied cranberry sauce is an excellent product. I serve it with meat and fish. A great side dish. Get the largest size pack from Amazon cause it goes fast.\n",
      "* * * * * * * * * \n",
      "12405\n",
      "2012-06-06 00:00:00\n",
      "3\n",
      "0\n",
      "B004VDGX1W\n",
      "too many stems, not enough leaf/flowers. makes a decent brew at 2 tblsp per cup, but still, what is up with having so many stems that is just so weird\n",
      "* * * * * * * * * \n",
      "42289\n",
      "2011-10-16 00:00:00\n",
      "4\n",
      "2\n",
      "B004391DK0\n",
      "Ok--I just bought BIsquick GF and the first thing I tried to make were the drop biscuits (recipe listed on the box).  These are not the kind that are rolled out & cut--these are \"drop \"biscuits.  The results were very tasty.  The taste of this GF bisquick is very much like the original, but the taste is not as tart as the original.  If you want a similar buttermilk taste, you will need to use buttermilk instead of milk in the biscuit recipe.  I noticed something else that was odd and might be a problem for anyone new to cooking; it seems that the amount of mix called for is not quite right.  I read the side of the box and it claims that there are 3 2/3 cups of mix in the box (11 servings of 1/3 cup each).  The biscuit recipe called for 2 cups of mix. I measured heaping teaspoonfuls into a measuring cup and I don't even have a cup of mix left in the bag?????  I know this mix doesn't have wheat flour and maybe that kind of flour measures differently, maybe if I dug into the bag with a cup, I would have used less, but the recipe came out right.  So, there must be a misprint on the box.  I am assuming I measured properly because I have biscuits that can be dipped in gravy, smothered with butter & jam, or sliced to make those yummy McDonald's breakfast sandwiches. By following the instructions, I have A LOT of biscuits.  If you are single, or just cooking for two; you might want to cut the recipe in half.  You will still have plenty and you won't go through the box so quickly.  This mix cost me around $5.00 and I don't have enough left to make anything else, without buying another box; which I will because these biscuits are really, really good.  Still, if you are watching your budget, don't prepare more than you need.<br /><br />About these biscuits:  yummy, fairly golden (because the recipe calls for eggs), and they can be sliced with some crumbly edges, just like glutenous ones.  Without the eggs, you probably won't get the nice eye-appealing color.  Even though they are drop biscuits, you still have to cut-in shortening or margarine. If you don't have a cutter, you will need to use a long fork.  That is more difficult, so if you are a celiac that has been craving biscuits; buy a cutter.  It will cost you as much as a box of this mix.  The biscuit recipe also calls for milk, so if you want that nice tart taste that is reminiscent of the original bisquick; you will need to use buttermilk.<br /><br />The mix is made up of rice flour, sugar, leavening, potato starch, salt, & xanthum gum.  Many mixes and goodies made with rice flour taste grainy.  Bisquick has done a fantastic job with the rice flour.  It is not grainy at all; I repeat, it is not grainy at all.  For those of you new to celiac cooking; using a starch such as corn, potato, or tapioca is normal and adds a lightness to the baked item that wouldn't be possible with rice flour alone.  Leavening is simply baking soda or powder and is necessary for rising.  The sugar and salt are for flavor and consistency,  and yes, they are necessary.  As for the Xanthum gum; it is a perfectly natural ingredient and it gives celiac-safe baked goods a bit of elasticity (acting as a replacement for the gluten).  You will find Xanthum gum in just about every baked goodie made for people with celiac disease.  Can you just make your own mix and spend less money?  Sure, but you will have a very difficult time finding rice flour as finely ground as the rice flour that is the predominant and main ingredient in this mix.<br /><br />The other recipes listed on the box are for pancakes, waffles, strawberry shortcakes, pizza crust, ultimate chicken fingers, and oven baked chicken.  You can find more recipes on their website.<br /><br />I recommend this product for the taste.  I do wish that more mix was in the box, for the price.\n",
      "* * * * * * * * * \n",
      "61489\n",
      "2011-04-07 00:00:00\n",
      "5\n",
      "1\n",
      "B003G1ZRTY\n",
      "4 words: GG crisps, peanut butter, no sugar smuckers jam (has splenda) and real butter. De....friggin...licious. I just bought these little slices of heaven from netrition and tried them out using the previously mentioned ingredients (and in that order too) about 3 minutes ago. Thrilled. I'm just thrilled. I bought them at netrition, but with the shipping costs, it's actually cheaper to buy them here, if you get the free shipping. Let's get one thing straight. I would never eat these things if I was not on a low carb diet. They were not meant to shoot your dopamine levels through the roof while eating them, if you know what I mean. But if you've got problems \"going\", or if you're on a low carb diet and need a pretty decent alternative to the cracker, or if you just like throwing packages of health foods in people's faces and telling them how much healthier you are then them, these are the crackers for you. I just plan on using them for LC diet purposes. You won't be disappointed.\n",
      "* * * * * * * * * \n",
      "72087\n",
      "2010-11-25 00:00:00\n",
      "4\n",
      "1\n",
      "B00020XNV6\n",
      "Hard to find in the USA, only a handful of cities have a leonidas store.<br />Only reason they didn't get 5 stars was that the chocolates arrived in imperfect condition after shipment.<br />They did have nice outer styrofoam packaging .. but some of the chocolates ended up fused together.<br />That's because of the old-school packaging - the style you would get from a chocolate store in belgium, like leonidas.<br /><br />anyway it's delicious and i'll order again\n",
      "* * * * * * * * * \n",
      "97772\n",
      "2012-05-31 00:00:00\n",
      "4\n",
      "1\n",
      "B002GC3D8Q\n",
      "This stuff is strong, less than a teaspoon of paste per 10 oz dashi stock will do you fine. Makes perfect clouds in the broth, and has a good smooth mouthfeel.\n",
      "* * * * * * * * * \n",
      "109726\n",
      "2008-05-04 00:00:00\n",
      "5\n",
      "0\n",
      "B000LQOI8S\n",
      "I first tried these last year in Italy.  I was a little surprised by the liquid center when I first had them.  They also have a little grittyness to them, but they really are delicious if you like coffee.  I wish I could find them in the states.  Trader Joes has their own version, but I really like these better.\n",
      "* * * * * * * * * \n",
      "121667\n",
      "2010-01-23 00:00:00\n",
      "5\n",
      "9\n",
      "B001AYEUH4\n",
      "You can purchase this directly from San-J for at least $2 less per bottle. They charge actual Published Shipping Rates based upon weight and distance. For instance it is $12.97 to ship to CA or $10.01 to ship to Alexandria, VA.\n",
      "* * * * * * * * * \n",
      "126843\n",
      "2009-12-29 00:00:00\n",
      "1\n",
      "11\n",
      "B0018CJYCO\n",
      "7 of my 12 cats began vomiting while on this food.  None of these cats have sensitive stomachs.  They have never vomited on any other food.  I took them off of the food and the vomiting stopped. Thinking that maybe, just maybe, it was something else making them sick, I put them back on the food, gradually.  The vomiting resumed.  I cannot recommend this food.\n",
      "* * * * * * * * * \n",
      "131923\n",
      "2009-06-06 00:00:00\n",
      "5\n",
      "3\n",
      "B0011MQSSY\n",
      "Remember that bubble gum  70's group the Archies and that summer hit Yummy yummy yummy I got love in my tummy? Those were the days-music wise as the Alka Seltzer  puppet had a hit called Whatever Shape Your tummy is! They don't write em' like that anymore. And here in Chicago land they don't carry those Mallo Cups anymore either. Delicious milk cholate heaven with creme marshmallow centers and a bit of cocoanut. Man these candies are AWESOME!!\n",
      "* * * * * * * * * \n",
      "146275\n",
      "2011-04-23 00:00:00\n",
      "5\n",
      "1\n",
      "B000HGOLQQ\n",
      "I ordered this because so many of the dip mixes I've used have been full of MSG or partially hydrogenated stuff, artifical colors and flavoring etc., and MSG gives me migraines.  This one does not.  If there is MSG in it, then there is so little that it doesn't effect me.<br /><br />The strongest flavor is green onion -- and it's very good -- followed by minced regular dehydrated onions.  It is a little salty, but if you add an additional 1/2c sour cream (or plain yogurt) it's perfect.  Or, if you're using it to dip raw veggies rather than heavily salted chips, it's not so salty.<br /><br />But that's just the beginning. Add 1/3 c of minced sundried tomatoes!  Or, 1/2 c of crisp bacon crumbles!  Or, go all out and makes a sour cream topping for baked potatoes with bacon, fresh ground black pepper, and some shredded sharp cheddar added.  Or, add 1t of Tabasco for a spicy onion dip!  Or, grill up some fresh onions and mince them into the dip.  Or, saute a handful of mushrooms!<br /><br />Not all this company's dips are as carefully pruned-down with the bad ingredients -- but this one works.\n",
      "* * * * * * * * * \n",
      "179563\n",
      "2012-10-11 00:00:00\n",
      "5\n",
      "1\n",
      "B000HDJZEM\n",
      "loved it. it is as good as caviar costing as much as $650.00 and up,i would recommend this caviar to anyone who likes a fine caviar and also someone who has been wanting to try caviar but isn,t sure what to buy. i had  been buying caviar (lumpfish)for years in a 2 ounce jar for $7.99 a jar and it did not have the taste or texture of this caviar and it comes in a larger size. when i opened the package i was pleasantly supprised to find the size of these jars and again to find the taste to be as tasty as caviar costing so very much more.i will always buy this caviar again and again\n",
      "* * * * * * * * * \n",
      "184410\n",
      "2010-04-14 00:00:00\n",
      "5\n",
      "3\n",
      "B000H25VSM\n",
      "The first time I tried Embasa Chipotles, I was hooked by the smoky flavor, the slow-intense burn, the meaty peppers, and the thick sauce.<br /><br />You can use them to spice up any dish, not just Mexican food. They go great with beef and chicken. Sliced or diced, they also make an exciting addition to salads (sauce strained).<br /><br />I posted a pic of the 7-oz Embasa tin next to a regular 12-oz soda can for size comparison so that you know what to expect.\n",
      "* * * * * * * * * \n",
      "192984\n",
      "2012-10-07 00:00:00\n",
      "5\n",
      "0\n",
      "B004DTCHH8\n",
      "Bought this konjac as a low cal snack. It's great tasting, brought it to work & my coworkers couldn't get enough. Down side is the price, $8.99 for a 3 oz bag. That's just way too much to pay so I haven't bought it again.\n",
      "* * * * * * * * * \n",
      "197121\n",
      "2010-03-16 00:00:00\n",
      "3\n",
      "5\n",
      "B000LQORDE\n",
      "Just be sure and try 1 packet before plunking down $19 for the whole crate of 20.  Bought a pack at the store today and could not get past the 2nd bite.  The heat is intense, but the flavor is flat.  It's probably better once you dress it up with a poached egg or some veggies, but it wasn't the flavorful kind of spicy I was looking for.\n",
      "* * * * * * * * * \n"
     ]
    },
    {
     "name": "stdout",
     "output_type": "stream",
     "text": [
      "225538\n",
      "2011-01-02 00:00:00\n",
      "4\n",
      "2\n",
      "B002B95HAG\n",
      "This product works as described.  It is easy to use once you get the hang of it.  Users will need to develop a system for pausing the stuffing in order to refill the tube.  I am on my third batch of sausages using this sausage gun, and the only minor complaint I have is a bit of liquid leaking out during the stuffing process.  Overall very happy especially considering the price.\n",
      "* * * * * * * * * \n",
      "253726\n",
      "2012-07-18 00:00:00\n",
      "5\n",
      "0\n",
      "B001IZBORY\n",
      "I can't believe I have been eating store bought pasta all these years, I just didn't know any better.  The first time I tasted La Campofilone pappardelle, I was hooked. The taste and texture of this pasta is beyond compare. I have not bought store pasta since and will never buy from a grocery store again.<br />THE BEST PASTA EVER!\n",
      "* * * * * * * * * \n",
      "282033\n",
      "2011-08-24 00:00:00\n",
      "5\n",
      "0\n",
      "B000LBNUUU\n",
      "I'm a spice addict, I admit it.  I keep 3 types of hot spices at work and poor hot sauce or hot pepper powder in my coffee, on my fruit, in everything I eat (except ice cream.... so far).<br /><br />This stuff knocked me out with just very small amounts the first time I tried it.  Now I'm slowly working my way through the bottle and loving it.<br /><br />I mostly came to look at these reviews because I was curious where this stuff rates on the scoville scale -<br /><br />One website lists it at 40,000 Scoville (seems way too low to me, though that's compared to Tobasco sauce listed at 2,500 scoville by the same site).  That puts it below all the \"Dave's... \" and \"357...\" lines of hot sauces.<br /><br />Just for comparison, most websites list cayenne pepper as 30,000-50,000 scoville, but I can pour large quantities of cayenne pepper powder (trader joe's brand) into my food or eat it raw with no trouble, just a mild burn.  And this 100% Pain is WAY BEYOND that.  A very small amount of it will make a large bowl of soup almost too hot for me.<br /><br />Also, Original Juan's website lists this stuff in the same category with their \"Da Bomb\" line of salsas, which all have listed measurements of 119,000 scoville upward.  That seems far more realistic to me than 40,000 scoville -<br /><br />If you're not sure you can handle this level, try the Pain 85% for a lil more flavor and a lil less heat.  I haven't tried that one yet myself but I hear it's a pretty significant heat difference.\n",
      "* * * * * * * * * \n",
      "304361\n",
      "2010-01-11 00:00:00\n",
      "2\n",
      "0\n",
      "B002GWHEVI\n",
      "As a consumer of Irish Breakfast Tea for many years, and one who uses the loose leaf blend in order to enjoy the stronger flavor of the oils, I found this tea to have very little taste - and I can not stress this point enough. It is cut in a manner that should have allowed the oils in the leaf to be maintained, but something in the process or a dilution of the tea leaves has just washed the taste out of the blend. The people of the company themselves - the taste testers - need to pay attention to this tea blend in order to be taken seriously as a purveyor of fine tea (It's less tasty than diner tea). Thus my \"I don't like it\" rating - because there isn't any taste to hate!\n",
      "* * * * * * * * * \n",
      "323390\n",
      "2012-02-25 00:00:00\n",
      "5\n",
      "2\n",
      "B0055N292E\n",
      "This mushroomy mix of dehydrated veggies and spices makes a sauce that you might have in a village restaurante of the wooded hills of Tuscany. Comes with real mushrooms and well proportioned spices and vegetables that simply need to be reconstituted in 1 cup of boiling water.  Add some olive oil to saute' a couple of minutes, then add some tomatoes or canned tomatoes.  Cook it down for about 15-20 minutes at a medium flame and serve over penne or other pasta that was cooked separately.  This is real food for 4 people and a gourmet meal that will beat what you might find in your local Italian restaurant.  My family absolutely LOVES this mix.\n",
      "* * * * * * * * * \n",
      "323945\n",
      "2008-10-17 00:00:00\n",
      "5\n",
      "0\n",
      "B0002TIZLA\n",
      "I have been feeding Wee Bits Solid Gold Wee Bits to my Papillon for about 6 years now and I'm very pleased with this product.  He is a very active little dog who hikes with me all year long (yes, even winter) here in Maine.  I feed him 1/4 cup twice a day mixed with a little bit of whatever we're eating that day; fish, chicken, eggs, pasta with a bit of liquid to moisten everything.<br /><br />A very nutritious food with no by-products.  Yes, it's pricey but worth it.<br /><br />You can buy it elsewhere where it's advertised at a lower price, but be aware that you might find a larger shipping cost.  For example, petfooddiscount charges over $14 for shipping.<br /><br />Regardless, it is an excellent food choice for your dog.\n",
      "* * * * * * * * * \n",
      "329302\n",
      "2009-11-01 00:00:00\n",
      "2\n",
      "1\n",
      "B002DLXXHG\n",
      "I ordered this product because it was described as \"all-natural with no chemical preservatives\" and the gold box price price was good.  It arrived quickly, as usual for Amazon, and it tastes good.  But, it's not \"all-natural with no chemical preservatives\" unless you consider sodium nitrite and partially hydrogenated vegetable oil to fall under that description.  I would consider ordering it again if it weren't for the artificial ingredients.<br /><br />How do they get away with suggesting that there are no artificial preservatives (sodium nitrite) in this stuff?  Sodium nitrite has been linked to migraines and colon cancer and has been used as a poison in larger quantities.\n",
      "* * * * * * * * * \n",
      "331241\n",
      "2009-04-08 00:00:00\n",
      "5\n",
      "7\n",
      "B001E5E2LS\n",
      "My chiropractor recommended Himalayan Sea Salt as THE salt for salt lovers, as it contains the minerals that were taken out in processing the (he calls garbage) table salt, and I love it.  Glad I got two grinders; one for home and one for the RV.  It was a mite pricey, as I was able to purchase some more salt to refill from the chiropracter for a lot less.  I would recommend the product.  The grinder was not too big and cumbersome, but was a good size.\n",
      "* * * * * * * * * \n",
      "332319\n",
      "2012-06-18 00:00:00\n",
      "3\n",
      "0\n",
      "B003P9XGDG\n",
      "I have been using Blue Buffalo Wilderness for a little over a year. I have 3 dogs, 2 labs and 1 golden. In my quest to find the \"perfect\" food for my golden's skin issues, I came across Blue Buffalo. After proper food transition, things seemed to be going smoothly. My golden still itches (which I think is yeast now, not food) and the one lab has a little gas, no biggie. About a month ago, I got a batch of food that made my 2 labs sick. The vet and I came to this determination when I put the dogs on plain rice, they were ok, then back on the food, sick again. I called Blue, they said perhaps the food was \"too rich\" for the labs. I'm not sure how, for they had been ok on the food for over a year. So, I tossed the food, bought a new batch, all is ok. The same thing happened this week, the labs are sick, and the golden ok. The labs eat rice for 2 days and they are good. Back on the food, now sick again. I called Blue. They could only say the food was too rich. To me, it doesn't make sense. Perhaps something along the process got into the food which sickens my labs, but not my golden. I like that the ingredients seemed to be sourced from whole foods, but I can't help but think the quality control of their processing is in check. Also, Blue did not rise up in the area of customer services. I was bummed about that.\n",
      "* * * * * * * * * \n",
      "332899\n",
      "2011-05-19 00:00:00\n",
      "4\n",
      "0\n",
      "B004FELBH8\n",
      "We enjoyed these flavorful cookie-cracker hybrids. The fruit pieces were plentiful and chewy, the cookie was mild and sweet. A great combination.\n",
      "* * * * * * * * * \n",
      "341002\n",
      "2010-11-25 00:00:00\n",
      "4\n",
      "1\n",
      "B00020XNUW\n",
      "Hard to find in the USA, only a handful of cities have a leonidas store.<br />Only reason they didn't get 5 stars was that the chocolates arrived in imperfect condition after shipment.<br />They did have nice outer styrofoam packaging .. but some of the chocolates ended up fused together.<br />That's because of the old-school packaging - the style you would get from a chocolate store in belgium, like leonidas.<br /><br />anyway it's delicious and i'll order again\n",
      "* * * * * * * * * \n",
      "352110\n",
      "2012-04-12 00:00:00\n",
      "5\n",
      "0\n",
      "B005QBF044\n",
      "These pho bo spices comes in a mesh bag with no extra impurities like msg and sodium.  It is not the weird powdered stuff you usually see as \"pho seasoning\" but actually whole spices.  Sticks of Cinnamon, pods of cardamon, licorice and whole stars of aniseed. I highly recommend this!\n",
      "* * * * * * * * * \n",
      "357100\n",
      "2011-04-25 00:00:00\n",
      "4\n",
      "1\n",
      "B002YB6HC8\n",
      "This is pricey dried fruit, but it's arranged beautifully and makes a great healthy gift.  The only part I don't like is the pineapple which is processed with way too much sugar.  All other fruits are great.  Nice presentation.\n",
      "* * * * * * * * * \n"
     ]
    }
   ],
   "source": [
    "# false positives\n",
    "\n",
    "import random, time\n",
    "\n",
    "for i in range(0, len(ridge_predictions)):\n",
    "    if (ridge_predictions[i] == True):\n",
    "        if (amazon.loc[i, \"helpful\"] == False):\n",
    "            if (random.uniform(0, 1) < 0.05):\n",
    "                print(i)\n",
    "                print(time.strftime('%Y-%m-%d %H:%M:%S', time.gmtime(amazon.loc[i, \"Time\"])))\n",
    "                print(amazon.loc[i, \"Score\"])\n",
    "                print(amazon.loc[i, \"HelpfulnessDenominator\"])\n",
    "                print(amazon.loc[i, \"ProductId\"])\n",
    "                print(amazon.loc[i, \"Text\"])\n",
    "                print('* * * * * * * * * ')"
   ]
  },
  {
   "cell_type": "code",
   "execution_count": null,
   "metadata": {},
   "outputs": [],
   "source": []
  }
 ],
 "metadata": {
  "kernelspec": {
   "display_name": "Python 3",
   "language": "python",
   "name": "python3"
  },
  "language_info": {
   "codemirror_mode": {
    "name": "ipython",
    "version": 3
   },
   "file_extension": ".py",
   "mimetype": "text/x-python",
   "name": "python",
   "nbconvert_exporter": "python",
   "pygments_lexer": "ipython3",
   "version": "3.7.1"
  }
 },
 "nbformat": 4,
 "nbformat_minor": 1
}
