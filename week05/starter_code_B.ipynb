{
 "cells": [
  {
   "cell_type": "code",
   "execution_count": null,
   "metadata": {},
   "outputs": [],
   "source": [
    "import numpy as np\n",
    "import pandas as pd\n",
    "import matplotlib.pyplot as plt\n",
    "%matplotlib inline"
   ]
  },
  {
   "cell_type": "markdown",
   "metadata": {},
   "source": [
    "### read the raw data"
   ]
  },
  {
   "cell_type": "code",
   "execution_count": null,
   "metadata": {},
   "outputs": [],
   "source": [
    "data = pd.read_csv('../week01/metadata/definitions.csv')\n",
    "\n",
    "# create a boolean indicator =True if the definition is of \"machine learning\"\n",
    "data['ml'] = data['term'] == 'machine learning'\n",
    "\n",
    "print(data.dtypes)\n",
    "print(data.head(10))"
   ]
  },
  {
   "cell_type": "markdown",
   "metadata": {},
   "source": [
    "### <span style=\"color:red\">create feature set X (matrix) and vector of labels L</span>\n",
    "\n",
    "Use [feature extraction methods in scikit-learn](http://scikit-learn.org/stable/modules/feature_extraction.html#text-feature-extraction) to *vectorize* the text of machine learning/AI definitions into an X matrix. "
   ]
  },
  {
   "cell_type": "code",
   "execution_count": null,
   "metadata": {},
   "outputs": [],
   "source": [
    "from sklearn.feature_extraction.text import CountVectorizer\n",
    "\n",
    "L = data[\"ml\"] # labels\n",
    "corpus = data['definition'] # corpus of reviews in words\n",
    "vectorizer = CountVectorizer()\n",
    "X = vectorizer.fit_transform(corpus)\n",
    "print(X.shape)"
   ]
  },
  {
   "cell_type": "markdown",
   "metadata": {},
   "source": [
    "### <span style=\"color:red\">fit X, L to SVM using the linear algebra implementation</span>\n",
    "\n",
    "[documentation for linear algebra implementation](http://scikit-learn.org/stable/modules/generated/sklearn.svm.SVC.html)"
   ]
  },
  {
   "cell_type": "code",
   "execution_count": null,
   "metadata": {},
   "outputs": [],
   "source": [
    "# fit logistic regression\n",
    "\n",
    "from sklearn.linear_model import LogisticRegression\n",
    "clf = LogisticRegression(solver='lbfgs')\n",
    "clf.fit(X, L)"
   ]
  },
  {
   "cell_type": "markdown",
   "metadata": {},
   "source": [
    "### assess performance"
   ]
  },
  {
   "cell_type": "code",
   "execution_count": null,
   "metadata": {},
   "outputs": [],
   "source": [
    "# look at performance measures\n",
    "import my_measures\n",
    "\n",
    "performance_measures = my_measures.BinaryClassificationPerformance(clf.predict(X), L, 'clf')\n",
    "performance_measures.compute_measures()\n",
    "print(performance_measures.performance_measures)"
   ]
  },
  {
   "cell_type": "markdown",
   "metadata": {
    "collapsed": true
   },
   "source": [
    "### test model on unseen definitions"
   ]
  },
  {
   "cell_type": "code",
   "execution_count": null,
   "metadata": {},
   "outputs": [],
   "source": [
    "# machine learning definitions\n",
    "# Wikipedia, Expert System, Tech Emergence\n",
    "ml_defs = [\"Machine learning is a field of computer science that gives computers the ability to learn without being explicitly programmed.\",\n",
    "          \"Machine learning is an application of artificial intelligence (AI) that provides systems the ability to automatically learn and improve from experience without being explicitly programmed. Machine learning focuses on the development of computer programs that can access data and use it learn for themselves.\",\n",
    "          \"Machine Learning is the science of getting computers to learn and act like humans do, and improve their learning over time in autonomous fashion, by feeding them data and information in the form of observations and real-world interactions.\"]\n",
    "\n",
    "for d in ml_defs:\n",
    "    print(d)\n",
    "    print(\"* * *\")"
   ]
  },
  {
   "cell_type": "code",
   "execution_count": null,
   "metadata": {},
   "outputs": [],
   "source": [
    "# AI definitions\n",
    "# Wikipedia, Oxford dictionary\n",
    "ai_defs = [\"Artificial intelligence (AI, also machine intelligence, MI) is intelligence demonstrated by machines, in contrast to the natural intelligence (NI) displayed by humans and other animals.\",\n",
    "          \"the theory and development of computer systems able to perform tasks that normally require human intelligence, such as visual perception, speech recognition, decision-making, and translation between languages\"]\n",
    "\n",
    "for d in ai_defs:\n",
    "    print(d)\n",
    "    print(\"* * *\")"
   ]
  },
  {
   "cell_type": "code",
   "execution_count": null,
   "metadata": {},
   "outputs": [],
   "source": [
    "# Definitions of unrelated things: kitten, piano, widget\n",
    "other_defs = [\"A kitten, also known as a kitty or kitty cat, is a juvenile cat.\",\n",
    "             \"The piano is an acoustic, stringed musical instrument invented in Italy by Bartolomeo Cristofori around the year 1700 in which the strings are struck by hammers.\",\n",
    "             \"a small gadget or mechanical device, especially one whose name is unknown or unspecified\"]\n",
    "\n",
    "for d in other_defs:\n",
    "    print(d)\n",
    "    print(\"* * *\")"
   ]
  },
  {
   "cell_type": "markdown",
   "metadata": {},
   "source": [
    "### function to transform new definitions to a X vector"
   ]
  },
  {
   "cell_type": "code",
   "execution_count": null,
   "metadata": {},
   "outputs": [],
   "source": [
    "def get_prediction(definition):\n",
    "    text_x = vectorizer.transform([definition]).toarray()\n",
    "    return(clf.predict(text_x))"
   ]
  },
  {
   "cell_type": "markdown",
   "metadata": {},
   "source": [
    "### view predicted classifications of new definitions"
   ]
  },
  {
   "cell_type": "code",
   "execution_count": null,
   "metadata": {},
   "outputs": [],
   "source": [
    "print(\"Model predictions for 'machine learning' definitions:\")\n",
    "for mld in ml_defs:\n",
    "    print(get_prediction(mld))\n",
    "    \n",
    "print(\"* * *\")\n",
    "print(\"Model predictions for 'AI' definitions:\")\n",
    "for aid in ai_defs:\n",
    "    print(get_prediction(aid))\n",
    "\n",
    "print(\"* * *\")\n",
    "print(\"Model predictions for other definitions (kitten, piano, widget):\")\n",
    "for otherd in other_defs:\n",
    "    print(get_prediction(otherd))"
   ]
  },
  {
   "cell_type": "code",
   "execution_count": null,
   "metadata": {},
   "outputs": [],
   "source": []
  }
 ],
 "metadata": {
  "kernelspec": {
   "display_name": "Python 3",
   "language": "python",
   "name": "python3"
  },
  "language_info": {
   "codemirror_mode": {
    "name": "ipython",
    "version": 3
   },
   "file_extension": ".py",
   "mimetype": "text/x-python",
   "name": "python",
   "nbconvert_exporter": "python",
   "pygments_lexer": "ipython3",
   "version": "3.7.1"
  }
 },
 "nbformat": 4,
 "nbformat_minor": 1
}
